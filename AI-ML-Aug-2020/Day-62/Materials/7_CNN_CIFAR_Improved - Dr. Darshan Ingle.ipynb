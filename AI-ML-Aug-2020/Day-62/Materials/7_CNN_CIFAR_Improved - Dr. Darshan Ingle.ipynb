{
  "nbformat": 4,
  "nbformat_minor": 0,
  "metadata": {
    "colab": {
      "name": "7_CNN_CIFAR_Improved.ipynb",
      "provenance": [],
      "collapsed_sections": []
    },
    "kernelspec": {
      "name": "python3",
      "display_name": "Python 3"
    },
    "accelerator": "GPU"
  },
  "cells": [
    {
      "cell_type": "code",
      "metadata": {
        "id": "pmNpq8GML1jW",
        "colab": {
          "base_uri": "https://localhost:8080/"
        },
        "outputId": "8fc92dca-d4ca-4e6e-d37a-c73d2c0c117e"
      },
      "source": [
        "import tensorflow as tf\n",
        "print(tf.__version__)"
      ],
      "execution_count": 1,
      "outputs": [
        {
          "output_type": "stream",
          "text": [
            "2.4.0\n"
          ],
          "name": "stdout"
        }
      ]
    },
    {
      "cell_type": "code",
      "metadata": {
        "id": "cBJh6ib6MEIW"
      },
      "source": [
        "# additional imports\n",
        "\n",
        "import numpy as np\n",
        "import matplotlib.pyplot as plt\n",
        "from tensorflow.keras.layers import Input, Conv2D, Dense, Flatten, Dropout, GlobalMaxPooling2D, MaxPooling2D, BatchNormalization\n",
        "from tensorflow.keras.models import Model"
      ],
      "execution_count": 2,
      "outputs": []
    },
    {
      "cell_type": "code",
      "metadata": {
        "id": "H_EGZv1TL4S_",
        "colab": {
          "base_uri": "https://localhost:8080/"
        },
        "outputId": "1d872677-bc62-4a6d-9cf0-b57f8f867b63"
      },
      "source": [
        "# Load in the data\n",
        "cifar10 = tf.keras.datasets.cifar10\n",
        "\n",
        "(x_train, y_train), (x_test, y_test) = cifar10.load_data()\n",
        "x_train, x_test = x_train / 255.0, x_test / 255.0 # Initial Normalization\n",
        "y_train, y_test = y_train.flatten(), y_test.flatten()\n",
        "print(\"x_train.shape:\", x_train.shape)\n",
        "print(\"y_train.shape\", y_train.shape)"
      ],
      "execution_count": 3,
      "outputs": [
        {
          "output_type": "stream",
          "text": [
            "x_train.shape: (50000, 32, 32, 3)\n",
            "y_train.shape (50000,)\n"
          ],
          "name": "stdout"
        }
      ]
    },
    {
      "cell_type": "code",
      "metadata": {
        "id": "1Wr15bYpMwbB",
        "colab": {
          "base_uri": "https://localhost:8080/"
        },
        "outputId": "b33df3f3-04d0-4f46-ae6e-667cbb767782"
      },
      "source": [
        "# number of classes\n",
        "K = len(set(y_train))\n",
        "print(\"number of classes:\", K)"
      ],
      "execution_count": 4,
      "outputs": [
        {
          "output_type": "stream",
          "text": [
            "number of classes: 10\n"
          ],
          "name": "stdout"
        }
      ]
    },
    {
      "cell_type": "code",
      "metadata": {
        "id": "Mmo66uQoMA1Q"
      },
      "source": [
        "# Build the model using the functional API\n",
        "i = Input(shape=x_train[0].shape)\n",
        "# x = Conv2D(32, (3, 3), strides=2, activation='relu')(i)\n",
        "# x = Conv2D(64, (3, 3), strides=2, activation='relu')(x)\n",
        "# x = Conv2D(128, (3, 3), strides=2, activation='relu')(x)\n",
        "\n",
        "x = Conv2D(32, (3, 3), activation='relu', padding='same')(i)\n",
        "x = BatchNormalization()(x)\n",
        "x = Conv2D(32, (3, 3), activation='relu', padding='same')(x)\n",
        "x = BatchNormalization()(x)\n",
        "x = MaxPooling2D((2, 2))(x)\n",
        "# x = Dropout(0.2)(x)\n",
        "x = Conv2D(64, (3, 3), activation='relu', padding='same')(x)\n",
        "x = BatchNormalization()(x)\n",
        "x = Conv2D(64, (3, 3), activation='relu', padding='same')(x)\n",
        "x = BatchNormalization()(x)\n",
        "x = MaxPooling2D((2, 2))(x)\n",
        "# x = Dropout(0.2)(x)\n",
        "x = Conv2D(128, (3, 3), activation='relu', padding='same')(x)\n",
        "x = BatchNormalization()(x)\n",
        "x = Conv2D(128, (3, 3), activation='relu', padding='same')(x)\n",
        "x = BatchNormalization()(x)\n",
        "x = MaxPooling2D((2, 2))(x)\n",
        "# x = Dropout(0.2)(x)\n",
        "\n",
        "# x = GlobalMaxPooling2D()(x)\n",
        "x = Flatten()(x)\n",
        "x = Dropout(0.2)(x)\n",
        "x = Dense(1024, activation='relu')(x)\n",
        "x = Dropout(0.2)(x)\n",
        "x = Dense(K, activation='softmax')(x)\n",
        "\n",
        "model = Model(i, x)"
      ],
      "execution_count": 5,
      "outputs": []
    },
    {
      "cell_type": "code",
      "metadata": {
        "id": "0zF9n0P7NcP-"
      },
      "source": [
        "# Compile\n",
        "# Note: make sure you are using the GPU for this!\n",
        "model.compile(optimizer='adam',\n",
        "              loss='sparse_categorical_crossentropy',\n",
        "              metrics=['accuracy'])"
      ],
      "execution_count": 6,
      "outputs": []
    },
    {
      "cell_type": "code",
      "metadata": {
        "id": "BBzAGEjOkvFz",
        "colab": {
          "base_uri": "https://localhost:8080/"
        },
        "outputId": "bd2c0f74-5a80-4e62-9a11-081bcd5887d7"
      },
      "source": [
        "# Fit\n",
        "r = model.fit(x_train, y_train, validation_data=(x_test, y_test), epochs=50)"
      ],
      "execution_count": 7,
      "outputs": [
        {
          "output_type": "stream",
          "text": [
            "Epoch 1/50\n",
            "1563/1563 [==============================] - 13s 6ms/step - loss: 1.6911 - accuracy: 0.4565 - val_loss: 1.1279 - val_accuracy: 0.6074\n",
            "Epoch 2/50\n",
            "1563/1563 [==============================] - 9s 6ms/step - loss: 0.8904 - accuracy: 0.6881 - val_loss: 1.2694 - val_accuracy: 0.6152\n",
            "Epoch 3/50\n",
            "1563/1563 [==============================] - 9s 6ms/step - loss: 0.7059 - accuracy: 0.7569 - val_loss: 0.7701 - val_accuracy: 0.7349\n",
            "Epoch 4/50\n",
            "1563/1563 [==============================] - 9s 6ms/step - loss: 0.5701 - accuracy: 0.8025 - val_loss: 0.6832 - val_accuracy: 0.7799\n",
            "Epoch 5/50\n",
            "1563/1563 [==============================] - 9s 6ms/step - loss: 0.4741 - accuracy: 0.8367 - val_loss: 0.6029 - val_accuracy: 0.8044\n",
            "Epoch 6/50\n",
            "1563/1563 [==============================] - 9s 6ms/step - loss: 0.4096 - accuracy: 0.8590 - val_loss: 0.6051 - val_accuracy: 0.8087\n",
            "Epoch 7/50\n",
            "1563/1563 [==============================] - 9s 6ms/step - loss: 0.3400 - accuracy: 0.8815 - val_loss: 0.5857 - val_accuracy: 0.8127\n",
            "Epoch 8/50\n",
            "1563/1563 [==============================] - 9s 6ms/step - loss: 0.2741 - accuracy: 0.9054 - val_loss: 0.6139 - val_accuracy: 0.8197\n",
            "Epoch 9/50\n",
            "1563/1563 [==============================] - 9s 6ms/step - loss: 0.2377 - accuracy: 0.9176 - val_loss: 0.7805 - val_accuracy: 0.7933\n",
            "Epoch 10/50\n",
            "1563/1563 [==============================] - 9s 6ms/step - loss: 0.2075 - accuracy: 0.9270 - val_loss: 0.6256 - val_accuracy: 0.8254\n",
            "Epoch 11/50\n",
            "1563/1563 [==============================] - 9s 6ms/step - loss: 0.1808 - accuracy: 0.9392 - val_loss: 0.6609 - val_accuracy: 0.8215\n",
            "Epoch 12/50\n",
            "1563/1563 [==============================] - 9s 6ms/step - loss: 0.1568 - accuracy: 0.9483 - val_loss: 0.7597 - val_accuracy: 0.8072\n",
            "Epoch 13/50\n",
            "1563/1563 [==============================] - 9s 6ms/step - loss: 0.1428 - accuracy: 0.9504 - val_loss: 0.6209 - val_accuracy: 0.8319\n",
            "Epoch 14/50\n",
            "1563/1563 [==============================] - 9s 6ms/step - loss: 0.1332 - accuracy: 0.9546 - val_loss: 0.6650 - val_accuracy: 0.8311\n",
            "Epoch 15/50\n",
            "1563/1563 [==============================] - 9s 6ms/step - loss: 0.1216 - accuracy: 0.9600 - val_loss: 0.7866 - val_accuracy: 0.8165\n",
            "Epoch 16/50\n",
            "1563/1563 [==============================] - 9s 6ms/step - loss: 0.1106 - accuracy: 0.9622 - val_loss: 0.6981 - val_accuracy: 0.8269\n",
            "Epoch 17/50\n",
            "1563/1563 [==============================] - 9s 6ms/step - loss: 0.1081 - accuracy: 0.9643 - val_loss: 0.7607 - val_accuracy: 0.8331\n",
            "Epoch 18/50\n",
            "1563/1563 [==============================] - 9s 6ms/step - loss: 0.1009 - accuracy: 0.9666 - val_loss: 0.7648 - val_accuracy: 0.8268\n",
            "Epoch 19/50\n",
            "1563/1563 [==============================] - 9s 6ms/step - loss: 0.0952 - accuracy: 0.9696 - val_loss: 0.7705 - val_accuracy: 0.8257\n",
            "Epoch 20/50\n",
            "1563/1563 [==============================] - 9s 6ms/step - loss: 0.0884 - accuracy: 0.9701 - val_loss: 0.7781 - val_accuracy: 0.8200\n",
            "Epoch 21/50\n",
            "1563/1563 [==============================] - 10s 6ms/step - loss: 0.0812 - accuracy: 0.9733 - val_loss: 0.7844 - val_accuracy: 0.8285\n",
            "Epoch 22/50\n",
            "1563/1563 [==============================] - 10s 6ms/step - loss: 0.0847 - accuracy: 0.9719 - val_loss: 0.8793 - val_accuracy: 0.8222\n",
            "Epoch 23/50\n",
            "1563/1563 [==============================] - 9s 6ms/step - loss: 0.0804 - accuracy: 0.9734 - val_loss: 0.7812 - val_accuracy: 0.8355\n",
            "Epoch 24/50\n",
            "1563/1563 [==============================] - 9s 6ms/step - loss: 0.0764 - accuracy: 0.9750 - val_loss: 0.7926 - val_accuracy: 0.8364\n",
            "Epoch 25/50\n",
            "1563/1563 [==============================] - 9s 6ms/step - loss: 0.0739 - accuracy: 0.9758 - val_loss: 0.8225 - val_accuracy: 0.8367\n",
            "Epoch 26/50\n",
            "1563/1563 [==============================] - 9s 6ms/step - loss: 0.0723 - accuracy: 0.9759 - val_loss: 0.7361 - val_accuracy: 0.8404\n",
            "Epoch 27/50\n",
            "1563/1563 [==============================] - 9s 6ms/step - loss: 0.0681 - accuracy: 0.9775 - val_loss: 0.8024 - val_accuracy: 0.8419\n",
            "Epoch 28/50\n",
            "1563/1563 [==============================] - 9s 6ms/step - loss: 0.0647 - accuracy: 0.9792 - val_loss: 0.7964 - val_accuracy: 0.8333\n",
            "Epoch 29/50\n",
            "1563/1563 [==============================] - 9s 6ms/step - loss: 0.0643 - accuracy: 0.9794 - val_loss: 0.8258 - val_accuracy: 0.8425\n",
            "Epoch 30/50\n",
            "1563/1563 [==============================] - 9s 6ms/step - loss: 0.0572 - accuracy: 0.9816 - val_loss: 0.8167 - val_accuracy: 0.8401\n",
            "Epoch 31/50\n",
            "1563/1563 [==============================] - 9s 6ms/step - loss: 0.0615 - accuracy: 0.9798 - val_loss: 0.7453 - val_accuracy: 0.8348\n",
            "Epoch 32/50\n",
            "1563/1563 [==============================] - 9s 6ms/step - loss: 0.0563 - accuracy: 0.9816 - val_loss: 0.8248 - val_accuracy: 0.8399\n",
            "Epoch 33/50\n",
            "1563/1563 [==============================] - 9s 6ms/step - loss: 0.0560 - accuracy: 0.9823 - val_loss: 0.8296 - val_accuracy: 0.8402\n",
            "Epoch 34/50\n",
            "1563/1563 [==============================] - 9s 6ms/step - loss: 0.0454 - accuracy: 0.9849 - val_loss: 0.8885 - val_accuracy: 0.8363\n",
            "Epoch 35/50\n",
            "1563/1563 [==============================] - 9s 6ms/step - loss: 0.0558 - accuracy: 0.9819 - val_loss: 0.9330 - val_accuracy: 0.8294\n",
            "Epoch 36/50\n",
            "1563/1563 [==============================] - 9s 6ms/step - loss: 0.0489 - accuracy: 0.9834 - val_loss: 0.8845 - val_accuracy: 0.8377\n",
            "Epoch 37/50\n",
            "1563/1563 [==============================] - 9s 6ms/step - loss: 0.0449 - accuracy: 0.9852 - val_loss: 0.9181 - val_accuracy: 0.8379\n",
            "Epoch 38/50\n",
            "1563/1563 [==============================] - 9s 6ms/step - loss: 0.0503 - accuracy: 0.9839 - val_loss: 0.8745 - val_accuracy: 0.8420\n",
            "Epoch 39/50\n",
            "1563/1563 [==============================] - 9s 6ms/step - loss: 0.0451 - accuracy: 0.9854 - val_loss: 0.9139 - val_accuracy: 0.8405\n",
            "Epoch 40/50\n",
            "1563/1563 [==============================] - 9s 6ms/step - loss: 0.0461 - accuracy: 0.9843 - val_loss: 0.7757 - val_accuracy: 0.8404\n",
            "Epoch 41/50\n",
            "1563/1563 [==============================] - 9s 6ms/step - loss: 0.0384 - accuracy: 0.9871 - val_loss: 0.8506 - val_accuracy: 0.8438\n",
            "Epoch 42/50\n",
            "1563/1563 [==============================] - 9s 6ms/step - loss: 0.0447 - accuracy: 0.9857 - val_loss: 0.8317 - val_accuracy: 0.8456\n",
            "Epoch 43/50\n",
            "1563/1563 [==============================] - 9s 6ms/step - loss: 0.0426 - accuracy: 0.9866 - val_loss: 0.8636 - val_accuracy: 0.8399\n",
            "Epoch 44/50\n",
            "1563/1563 [==============================] - 9s 6ms/step - loss: 0.0413 - accuracy: 0.9862 - val_loss: 0.8250 - val_accuracy: 0.8412\n",
            "Epoch 45/50\n",
            "1563/1563 [==============================] - 9s 6ms/step - loss: 0.0476 - accuracy: 0.9847 - val_loss: 0.9366 - val_accuracy: 0.8393\n",
            "Epoch 46/50\n",
            "1563/1563 [==============================] - 9s 6ms/step - loss: 0.0362 - accuracy: 0.9881 - val_loss: 0.9409 - val_accuracy: 0.8436\n",
            "Epoch 47/50\n",
            "1563/1563 [==============================] - 9s 6ms/step - loss: 0.0455 - accuracy: 0.9863 - val_loss: 0.9570 - val_accuracy: 0.8428\n",
            "Epoch 48/50\n",
            "1563/1563 [==============================] - 9s 6ms/step - loss: 0.0381 - accuracy: 0.9874 - val_loss: 0.8402 - val_accuracy: 0.8423\n",
            "Epoch 49/50\n",
            "1563/1563 [==============================] - 9s 6ms/step - loss: 0.0388 - accuracy: 0.9877 - val_loss: 0.8934 - val_accuracy: 0.8396\n",
            "Epoch 50/50\n",
            "1563/1563 [==============================] - 9s 6ms/step - loss: 0.0448 - accuracy: 0.9857 - val_loss: 0.8990 - val_accuracy: 0.8376\n"
          ],
          "name": "stdout"
        }
      ]
    },
    {
      "cell_type": "code",
      "metadata": {
        "id": "af61hXUrYjsZ",
        "colab": {
          "base_uri": "https://localhost:8080/"
        },
        "outputId": "170c4990-38e0-4669-b09d-16565597cab4"
      },
      "source": [
        "# Fit with data augmentation\n",
        "# Note: if you run this AFTER calling the previous model.fit(), it will CONTINUE training where it left off\n",
        "batch_size = 32\n",
        "data_generator = tf.keras.preprocessing.image.ImageDataGenerator(width_shift_range=0.1, height_shift_range=0.1, horizontal_flip=True)\n",
        "train_generator = data_generator.flow(x_train, y_train, batch_size)\n",
        "steps_per_epoch = x_train.shape[0] // batch_size\n",
        "r = model.fit_generator(train_generator, validation_data=(x_test, y_test), steps_per_epoch=steps_per_epoch, epochs=50)"
      ],
      "execution_count": 8,
      "outputs": [
        {
          "output_type": "stream",
          "text": [
            "/usr/local/lib/python3.6/dist-packages/tensorflow/python/keras/engine/training.py:1844: UserWarning: `Model.fit_generator` is deprecated and will be removed in a future version. Please use `Model.fit`, which supports generators.\n",
            "  warnings.warn('`Model.fit_generator` is deprecated and '\n"
          ],
          "name": "stderr"
        },
        {
          "output_type": "stream",
          "text": [
            "Epoch 1/50\n",
            "1562/1562 [==============================] - 29s 19ms/step - loss: 0.5501 - accuracy: 0.8250 - val_loss: 0.6229 - val_accuracy: 0.8075\n",
            "Epoch 2/50\n",
            "1562/1562 [==============================] - 29s 19ms/step - loss: 0.4370 - accuracy: 0.8575 - val_loss: 0.4936 - val_accuracy: 0.8387\n",
            "Epoch 3/50\n",
            "1562/1562 [==============================] - 29s 18ms/step - loss: 0.4071 - accuracy: 0.8645 - val_loss: 0.4625 - val_accuracy: 0.8514\n",
            "Epoch 4/50\n",
            "1562/1562 [==============================] - 29s 18ms/step - loss: 0.3880 - accuracy: 0.8710 - val_loss: 0.4375 - val_accuracy: 0.8597\n",
            "Epoch 5/50\n",
            "1562/1562 [==============================] - 29s 18ms/step - loss: 0.3724 - accuracy: 0.8764 - val_loss: 0.4699 - val_accuracy: 0.8496\n",
            "Epoch 6/50\n",
            "1562/1562 [==============================] - 29s 18ms/step - loss: 0.3588 - accuracy: 0.8794 - val_loss: 0.5403 - val_accuracy: 0.8279\n",
            "Epoch 7/50\n",
            "1562/1562 [==============================] - 28s 18ms/step - loss: 0.3379 - accuracy: 0.8861 - val_loss: 0.4388 - val_accuracy: 0.8572\n",
            "Epoch 8/50\n",
            "1562/1562 [==============================] - 28s 18ms/step - loss: 0.3219 - accuracy: 0.8916 - val_loss: 0.4742 - val_accuracy: 0.8571\n",
            "Epoch 9/50\n",
            "1562/1562 [==============================] - 28s 18ms/step - loss: 0.3207 - accuracy: 0.8903 - val_loss: 0.4593 - val_accuracy: 0.8656\n",
            "Epoch 10/50\n",
            "1562/1562 [==============================] - 28s 18ms/step - loss: 0.3121 - accuracy: 0.8946 - val_loss: 0.4119 - val_accuracy: 0.8706\n",
            "Epoch 11/50\n",
            "1562/1562 [==============================] - 27s 18ms/step - loss: 0.3004 - accuracy: 0.8984 - val_loss: 0.4304 - val_accuracy: 0.8608\n",
            "Epoch 12/50\n",
            "1562/1562 [==============================] - 27s 18ms/step - loss: 0.2904 - accuracy: 0.9011 - val_loss: 0.4731 - val_accuracy: 0.8547\n",
            "Epoch 13/50\n",
            "1562/1562 [==============================] - 28s 18ms/step - loss: 0.2809 - accuracy: 0.9045 - val_loss: 0.4181 - val_accuracy: 0.8700\n",
            "Epoch 14/50\n",
            "1562/1562 [==============================] - 28s 18ms/step - loss: 0.2782 - accuracy: 0.9045 - val_loss: 0.3932 - val_accuracy: 0.8730\n",
            "Epoch 15/50\n",
            "1562/1562 [==============================] - 27s 17ms/step - loss: 0.2774 - accuracy: 0.9055 - val_loss: 0.4258 - val_accuracy: 0.8703\n",
            "Epoch 16/50\n",
            "1562/1562 [==============================] - 27s 17ms/step - loss: 0.2674 - accuracy: 0.9097 - val_loss: 0.4368 - val_accuracy: 0.8727\n",
            "Epoch 17/50\n",
            "1562/1562 [==============================] - 27s 17ms/step - loss: 0.2575 - accuracy: 0.9122 - val_loss: 0.4370 - val_accuracy: 0.8716\n",
            "Epoch 18/50\n",
            "1562/1562 [==============================] - 27s 17ms/step - loss: 0.2607 - accuracy: 0.9125 - val_loss: 0.4355 - val_accuracy: 0.8668\n",
            "Epoch 19/50\n",
            "1562/1562 [==============================] - 29s 19ms/step - loss: 0.2504 - accuracy: 0.9147 - val_loss: 0.4032 - val_accuracy: 0.8748\n",
            "Epoch 20/50\n",
            "1562/1562 [==============================] - 29s 18ms/step - loss: 0.2461 - accuracy: 0.9161 - val_loss: 0.4578 - val_accuracy: 0.8620\n",
            "Epoch 21/50\n",
            "1562/1562 [==============================] - 29s 18ms/step - loss: 0.2414 - accuracy: 0.9179 - val_loss: 0.4283 - val_accuracy: 0.8736\n",
            "Epoch 22/50\n",
            "1562/1562 [==============================] - 28s 18ms/step - loss: 0.2336 - accuracy: 0.9203 - val_loss: 0.4458 - val_accuracy: 0.8754\n",
            "Epoch 23/50\n",
            "1562/1562 [==============================] - 28s 18ms/step - loss: 0.2298 - accuracy: 0.9227 - val_loss: 0.4486 - val_accuracy: 0.8660\n",
            "Epoch 24/50\n",
            "1562/1562 [==============================] - 28s 18ms/step - loss: 0.2265 - accuracy: 0.9236 - val_loss: 0.4591 - val_accuracy: 0.8694\n",
            "Epoch 25/50\n",
            "1562/1562 [==============================] - 28s 18ms/step - loss: 0.2277 - accuracy: 0.9217 - val_loss: 0.4311 - val_accuracy: 0.8682\n",
            "Epoch 26/50\n",
            "1562/1562 [==============================] - 29s 19ms/step - loss: 0.2183 - accuracy: 0.9265 - val_loss: 0.4217 - val_accuracy: 0.8735\n",
            "Epoch 27/50\n",
            "1562/1562 [==============================] - 28s 18ms/step - loss: 0.2163 - accuracy: 0.9255 - val_loss: 0.4378 - val_accuracy: 0.8746\n",
            "Epoch 28/50\n",
            "1562/1562 [==============================] - 27s 17ms/step - loss: 0.2139 - accuracy: 0.9277 - val_loss: 0.4287 - val_accuracy: 0.8744\n",
            "Epoch 29/50\n",
            "1562/1562 [==============================] - 27s 18ms/step - loss: 0.2112 - accuracy: 0.9278 - val_loss: 0.4318 - val_accuracy: 0.8779\n",
            "Epoch 30/50\n",
            "1562/1562 [==============================] - 28s 18ms/step - loss: 0.2069 - accuracy: 0.9301 - val_loss: 0.4418 - val_accuracy: 0.8732\n",
            "Epoch 31/50\n",
            "1562/1562 [==============================] - 28s 18ms/step - loss: 0.2025 - accuracy: 0.9292 - val_loss: 0.4586 - val_accuracy: 0.8708\n",
            "Epoch 32/50\n",
            "1562/1562 [==============================] - 28s 18ms/step - loss: 0.2058 - accuracy: 0.9299 - val_loss: 0.4315 - val_accuracy: 0.8687\n",
            "Epoch 33/50\n",
            "1562/1562 [==============================] - 30s 19ms/step - loss: 0.1996 - accuracy: 0.9321 - val_loss: 0.4948 - val_accuracy: 0.8690\n",
            "Epoch 34/50\n",
            "1562/1562 [==============================] - 28s 18ms/step - loss: 0.1938 - accuracy: 0.9338 - val_loss: 0.4261 - val_accuracy: 0.8769\n",
            "Epoch 35/50\n",
            "1562/1562 [==============================] - 28s 18ms/step - loss: 0.1951 - accuracy: 0.9341 - val_loss: 0.4101 - val_accuracy: 0.8773\n",
            "Epoch 36/50\n",
            "1562/1562 [==============================] - 30s 19ms/step - loss: 0.1907 - accuracy: 0.9348 - val_loss: 0.4233 - val_accuracy: 0.8754\n",
            "Epoch 37/50\n",
            "1562/1562 [==============================] - 28s 18ms/step - loss: 0.1917 - accuracy: 0.9352 - val_loss: 0.4397 - val_accuracy: 0.8817\n",
            "Epoch 38/50\n",
            "1562/1562 [==============================] - 28s 18ms/step - loss: 0.1898 - accuracy: 0.9360 - val_loss: 0.3923 - val_accuracy: 0.8788\n",
            "Epoch 39/50\n",
            "1562/1562 [==============================] - 28s 18ms/step - loss: 0.1879 - accuracy: 0.9360 - val_loss: 0.4191 - val_accuracy: 0.8746\n",
            "Epoch 40/50\n",
            "1562/1562 [==============================] - 28s 18ms/step - loss: 0.1834 - accuracy: 0.9380 - val_loss: 0.4391 - val_accuracy: 0.8763\n",
            "Epoch 41/50\n",
            "1562/1562 [==============================] - 28s 18ms/step - loss: 0.1834 - accuracy: 0.9379 - val_loss: 0.4344 - val_accuracy: 0.8803\n",
            "Epoch 42/50\n",
            "1562/1562 [==============================] - 28s 18ms/step - loss: 0.1794 - accuracy: 0.9387 - val_loss: 0.4284 - val_accuracy: 0.8726\n",
            "Epoch 43/50\n",
            "1562/1562 [==============================] - 28s 18ms/step - loss: 0.1765 - accuracy: 0.9402 - val_loss: 0.3988 - val_accuracy: 0.8795\n",
            "Epoch 44/50\n",
            "1562/1562 [==============================] - 28s 18ms/step - loss: 0.1784 - accuracy: 0.9397 - val_loss: 0.4379 - val_accuracy: 0.8796\n",
            "Epoch 45/50\n",
            "1562/1562 [==============================] - 28s 18ms/step - loss: 0.1717 - accuracy: 0.9421 - val_loss: 0.4363 - val_accuracy: 0.8807\n",
            "Epoch 46/50\n",
            "1562/1562 [==============================] - 28s 18ms/step - loss: 0.1758 - accuracy: 0.9412 - val_loss: 0.4123 - val_accuracy: 0.8791\n",
            "Epoch 47/50\n",
            "1562/1562 [==============================] - 28s 18ms/step - loss: 0.1744 - accuracy: 0.9417 - val_loss: 0.4166 - val_accuracy: 0.8823\n",
            "Epoch 48/50\n",
            "1562/1562 [==============================] - 28s 18ms/step - loss: 0.1719 - accuracy: 0.9433 - val_loss: 0.4291 - val_accuracy: 0.8790\n",
            "Epoch 49/50\n",
            "1562/1562 [==============================] - 28s 18ms/step - loss: 0.1712 - accuracy: 0.9424 - val_loss: 0.4047 - val_accuracy: 0.8823\n",
            "Epoch 50/50\n",
            "1562/1562 [==============================] - 28s 18ms/step - loss: 0.1613 - accuracy: 0.9454 - val_loss: 0.4933 - val_accuracy: 0.8764\n"
          ],
          "name": "stdout"
        }
      ]
    },
    {
      "cell_type": "markdown",
      "metadata": {
        "id": "G7Zw6GGocfcd"
      },
      "source": [
        "**Observation:**\n",
        "\n",
        "We are getting a lower training accuracy but a higher Validation accuracy. Hence, there is lesser Overfitting. Therefore, the model has improved."
      ]
    },
    {
      "cell_type": "code",
      "metadata": {
        "id": "ML37hw4iOkBm",
        "colab": {
          "base_uri": "https://localhost:8080/",
          "height": 282
        },
        "outputId": "4be128e0-d166-4ab2-b82a-a139ca821170"
      },
      "source": [
        "# Plot loss per iteration\n",
        "import matplotlib.pyplot as plt\n",
        "plt.plot(r.history['loss'], label='loss')\n",
        "plt.plot(r.history['val_loss'], label='val_loss')\n",
        "plt.legend()"
      ],
      "execution_count": 9,
      "outputs": [
        {
          "output_type": "execute_result",
          "data": {
            "text/plain": [
              "<matplotlib.legend.Legend at 0x7f5f921a2240>"
            ]
          },
          "metadata": {
            "tags": []
          },
          "execution_count": 9
        },
        {
          "output_type": "display_data",
          "data": {
            "image/png": "[encoded data removed]",
            "text/plain": [
              "<Figure size 432x288 with 1 Axes>"
            ]
          },
          "metadata": {
            "tags": [],
            "needs_background": "light"
          }
        }
      ]
    },
    {
      "cell_type": "markdown",
      "metadata": {
        "id": "2pMzlBtxc-sL"
      },
      "source": [
        "**Observation:**\n",
        "\n",
        "A much better learning curve than before. "
      ]
    },
    {
      "cell_type": "code",
      "metadata": {
        "id": "pemstSDIOpIb",
        "colab": {
          "base_uri": "https://localhost:8080/",
          "height": 282
        },
        "outputId": "87c5a5c7-d796-4cde-d32d-779dbecb9ad0"
      },
      "source": [
        "# Plot accuracy per iteration\n",
        "plt.plot(r.history['accuracy'], label='acc')\n",
        "plt.plot(r.history['val_accuracy'], label='val_acc')\n",
        "plt.legend()"
      ],
      "execution_count": 10,
      "outputs": [
        {
          "output_type": "execute_result",
          "data": {
            "text/plain": [
              "<matplotlib.legend.Legend at 0x7f5f92081e48>"
            ]
          },
          "metadata": {
            "tags": []
          },
          "execution_count": 10
        },
        {
          "output_type": "display_data",
          "data": {
            "image/png": "[encoded data removed]",
            "text/plain": [
              "<Figure size 432x288 with 1 Axes>"
            ]
          },
          "metadata": {
            "tags": [],
            "needs_background": "light"
          }
        }
      ]
    },
    {
      "cell_type": "code",
      "metadata": {
        "id": "2LJTd4OiO6kL",
        "colab": {
          "base_uri": "https://localhost:8080/",
          "height": 501
        },
        "outputId": "906acb07-7d2d-495e-cab3-dd91d0772879"
      },
      "source": [
        "# Plot confusion matrix\n",
        "from sklearn.metrics import confusion_matrix\n",
        "import itertools\n",
        "\n",
        "def plot_confusion_matrix(cm, classes,\n",
        "                          normalize=False,\n",
        "                          title='Confusion matrix',\n",
        "                          cmap=plt.cm.Blues):\n",
        "  \"\"\"\n",
        "  This function prints and plots the confusion matrix.\n",
        "  Normalization can be applied by setting `normalize=True`.\n",
        "  \"\"\"\n",
        "  if normalize:\n",
        "      cm = cm.astype('float') / cm.sum(axis=1)[:, np.newaxis]\n",
        "      print(\"Normalized confusion matrix\")\n",
        "  else:\n",
        "      print('Confusion matrix, without normalization')\n",
        "\n",
        "  print(cm)\n",
        "\n",
        "  plt.imshow(cm, interpolation='nearest', cmap=cmap)\n",
        "  plt.title(title)\n",
        "  plt.colorbar()\n",
        "  tick_marks = np.arange(len(classes))\n",
        "  plt.xticks(tick_marks, classes, rotation=45)\n",
        "  plt.yticks(tick_marks, classes)\n",
        "\n",
        "  fmt = '.2f' if normalize else 'd'\n",
        "  thresh = cm.max() / 2.\n",
        "  for i, j in itertools.product(range(cm.shape[0]), range(cm.shape[1])):\n",
        "      plt.text(j, i, format(cm[i, j], fmt),\n",
        "               horizontalalignment=\"center\",\n",
        "               color=\"white\" if cm[i, j] > thresh else \"black\")\n",
        "\n",
        "  plt.tight_layout()\n",
        "  plt.ylabel('True label')\n",
        "  plt.xlabel('Predicted label')\n",
        "  plt.show()\n",
        "\n",
        "\n",
        "p_test = model.predict(x_test).argmax(axis=1)\n",
        "cm = confusion_matrix(y_test, p_test)\n",
        "plot_confusion_matrix(cm, list(range(10)))\n",
        "\n"
      ],
      "execution_count": 11,
      "outputs": [
        {
          "output_type": "stream",
          "text": [
            "Confusion matrix, without normalization\n",
            "[[872   7  34  10   8   2  15   5  33  14]\n",
            " [  6 942   2   1   1   0   8   1   3  36]\n",
            " [ 26   0 845  25  27  19  46   4   2   6]\n",
            " [ 10   4  51 720  36  68  81  14   7   9]\n",
            " [  3   2  42  22 876  14  28  11   2   0]\n",
            " [  5   1  47  85  26 780  36  11   5   4]\n",
            " [  3   1  14   9   8   4 957   2   1   1]\n",
            " [  6   0  17  22  32  17  11 887   2   6]\n",
            " [ 22   7   7   3   1   2   5   1 939  13]\n",
            " [  9  25   4   2   1   1   4   0   8 946]]\n"
          ],
          "name": "stdout"
        },
        {
          "output_type": "display_data",
          "data": {
            "image/png": "[encoded data removed]",
            "text/plain": [
              "<Figure size 432x288 with 2 Axes>"
            ]
          },
          "metadata": {
            "tags": [],
            "needs_background": "light"
          }
        }
      ]
    },
    {
      "cell_type": "markdown",
      "metadata": {
        "id": "F5Q1Ut2bd1nK"
      },
      "source": [
        "**Observation:** \n",
        "Much lesser misclassifications as promised before."
      ]
    },
    {
      "cell_type": "code",
      "metadata": {
        "id": "AgQqQHXNXDgw"
      },
      "source": [
        "# label mapping\n",
        "labels = '''airplane\n",
        "automobile\n",
        "bird\n",
        "cat\n",
        "deer\n",
        "dog\n",
        "frog\n",
        "horse\n",
        "ship\n",
        "truck'''.split()"
      ],
      "execution_count": 12,
      "outputs": []
    },
    {
      "cell_type": "code",
      "metadata": {
        "id": "jjmW4STFO-Ny",
        "colab": {
          "base_uri": "https://localhost:8080/",
          "height": 281
        },
        "outputId": "946acfb0-c30c-4030-fd59-0469d1a6bd8b"
      },
      "source": [
        "# Show some misclassified examples\n",
        "misclassified_idx = np.where(p_test != y_test)[0]\n",
        "i = np.random.choice(misclassified_idx)\n",
        "plt.imshow(x_test[i], cmap='gray')\n",
        "plt.title(\"True label: %s Predicted: %s\" % (labels[y_test[i]], labels[p_test[i]]));"
      ],
      "execution_count": 13,
      "outputs": [
        {
          "output_type": "display_data",
          "data": {
            "image/png": "[encoded data removed]",
            "text/plain": [
              "<Figure size 432x288 with 1 Axes>"
            ]
          },
          "metadata": {
            "tags": [],
            "needs_background": "light"
          }
        }
      ]
    },
    {
      "cell_type": "code",
      "metadata": {
        "id": "khHLAUmGSbRx",
        "colab": {
          "base_uri": "https://localhost:8080/",
          "height": 281
        },
        "outputId": "567f3715-a94e-44e3-826c-dca47d71b53c"
      },
      "source": [
        "# Show some misclassified examples\n",
        "misclassified_idx = np.where(p_test != y_test)[0]\n",
        "i = np.random.choice(misclassified_idx)\n",
        "plt.imshow(x_test[i], cmap='gray')\n",
        "plt.title(\"True label: %s Predicted: %s\" % (labels[y_test[i]], labels[p_test[i]]));"
      ],
      "execution_count": 14,
      "outputs": [
        {
          "output_type": "display_data",
          "data": {
            "image/png": "[encoded data removed]",
            "text/plain": [
              "<Figure size 432x288 with 1 Axes>"
            ]
          },
          "metadata": {
            "tags": [],
            "needs_background": "light"
          }
        }
      ]
    },
    {
      "cell_type": "code",
      "metadata": {
        "id": "GfQKP1QiSbXx",
        "colab": {
          "base_uri": "https://localhost:8080/",
          "height": 281
        },
        "outputId": "a94c392e-0614-4291-f9d7-d0f1d0a7c713"
      },
      "source": [
        "# Show some misclassified examples\n",
        "misclassified_idx = np.where(p_test != y_test)[0]\n",
        "i = np.random.choice(misclassified_idx)\n",
        "plt.imshow(x_test[i], cmap='gray')\n",
        "plt.title(\"True label: %s Predicted: %s\" % (labels[y_test[i]], labels[p_test[i]]));"
      ],
      "execution_count": 15,
      "outputs": [
        {
          "output_type": "display_data",
          "data": {
            "image/png": "[encoded data removed]",
            "text/plain": [
              "<Figure size 432x288 with 1 Axes>"
            ]
          },
          "metadata": {
            "tags": [],
            "needs_background": "light"
          }
        }
      ]
    },
    {
      "cell_type": "code",
      "metadata": {
        "id": "mfdKBq6uSbfl",
        "colab": {
          "base_uri": "https://localhost:8080/",
          "height": 281
        },
        "outputId": "faadc89d-6f28-4397-d123-b1ea0c62ce80"
      },
      "source": [
        "# Show some misclassified examples\n",
        "misclassified_idx = np.where(p_test != y_test)[0]\n",
        "i = np.random.choice(misclassified_idx)\n",
        "plt.imshow(x_test[i], cmap='gray')\n",
        "plt.title(\"True label: %s Predicted: %s\" % (labels[y_test[i]], labels[p_test[i]]));"
      ],
      "execution_count": 16,
      "outputs": [
        {
          "output_type": "display_data",
          "data": {
            "image/png": "[encoded data removed]",
            "text/plain": [
              "<Figure size 432x288 with 1 Axes>"
            ]
          },
          "metadata": {
            "tags": [],
            "needs_background": "light"
          }
        }
      ]
    },
    {
      "cell_type": "code",
      "metadata": {
        "id": "qNw6PmshWjoZ",
        "colab": {
          "base_uri": "https://localhost:8080/"
        },
        "outputId": "03a23321-2f04-4791-b84c-ed3ba669578c"
      },
      "source": [
        "# Now that the model is so large, it's useful to summarize it\n",
        "model.summary()"
      ],
      "execution_count": 17,
      "outputs": [
        {
          "output_type": "stream",
          "text": [
            "Model: \"model\"\n",
            "_________________________________________________________________\n",
            "Layer (type)                 Output Shape              Param #   \n",
            "=================================================================\n",
            "input_1 (InputLayer)         [(None, 32, 32, 3)]       0         \n",
            "_________________________________________________________________\n",
            "conv2d (Conv2D)              (None, 32, 32, 32)        896       \n",
            "_________________________________________________________________\n",
            "batch_normalization (BatchNo (None, 32, 32, 32)        128       \n",
            "_________________________________________________________________\n",
            "conv2d_1 (Conv2D)            (None, 32, 32, 32)        9248      \n",
            "_________________________________________________________________\n",
            "batch_normalization_1 (Batch (None, 32, 32, 32)        128       \n",
            "_________________________________________________________________\n",
            "max_pooling2d (MaxPooling2D) (None, 16, 16, 32)        0         \n",
            "_________________________________________________________________\n",
            "conv2d_2 (Conv2D)            (None, 16, 16, 64)        18496     \n",
            "_________________________________________________________________\n",
            "batch_normalization_2 (Batch (None, 16, 16, 64)        256       \n",
            "_________________________________________________________________\n",
            "conv2d_3 (Conv2D)            (None, 16, 16, 64)        36928     \n",
            "_________________________________________________________________\n",
            "batch_normalization_3 (Batch (None, 16, 16, 64)        256       \n",
            "_________________________________________________________________\n",
            "max_pooling2d_1 (MaxPooling2 (None, 8, 8, 64)          0         \n",
            "_________________________________________________________________\n",
            "conv2d_4 (Conv2D)            (None, 8, 8, 128)         73856     \n",
            "_________________________________________________________________\n",
            "batch_normalization_4 (Batch (None, 8, 8, 128)         512       \n",
            "_________________________________________________________________\n",
            "conv2d_5 (Conv2D)            (None, 8, 8, 128)         147584    \n",
            "_________________________________________________________________\n",
            "batch_normalization_5 (Batch (None, 8, 8, 128)         512       \n",
            "_________________________________________________________________\n",
            "max_pooling2d_2 (MaxPooling2 (None, 4, 4, 128)         0         \n",
            "_________________________________________________________________\n",
            "flatten (Flatten)            (None, 2048)              0         \n",
            "_________________________________________________________________\n",
            "dropout (Dropout)            (None, 2048)              0         \n",
            "_________________________________________________________________\n",
            "dense (Dense)                (None, 1024)              2098176   \n",
            "_________________________________________________________________\n",
            "dropout_1 (Dropout)          (None, 1024)              0         \n",
            "_________________________________________________________________\n",
            "dense_1 (Dense)              (None, 10)                10250     \n",
            "=================================================================\n",
            "Total params: 2,397,226\n",
            "Trainable params: 2,396,330\n",
            "Non-trainable params: 896\n",
            "_________________________________________________________________\n"
          ],
          "name": "stdout"
        }
      ]
    }
  ]
}
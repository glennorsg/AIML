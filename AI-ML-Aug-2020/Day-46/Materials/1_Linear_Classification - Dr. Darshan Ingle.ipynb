{
  "nbformat": 4,
  "nbformat_minor": 0,
  "metadata": {
    "colab": {
      "name": "1 Linear_Classification.ipynb",
      "provenance": [],
      "collapsed_sections": []
    },
    "kernelspec": {
      "name": "python3",
      "display_name": "Python 3"
    }
  },
  "cells": [
    {
      "cell_type": "code",
      "metadata": {
        "colab": {
          "base_uri": "https://localhost:8080/"
        },
        "id": "m62CNhycMi0M",
        "outputId": "f7a4b022-baa0-4f9a-ff55-d783ff41262b"
      },
      "source": [
        "import tensorflow as tf\n",
        "print(tf.__version__)"
      ],
      "execution_count": 1,
      "outputs": [
        {
          "output_type": "stream",
          "text": [
            "2.3.0\n"
          ],
          "name": "stdout"
        }
      ]
    },
    {
      "cell_type": "code",
      "metadata": {
        "id": "DzeARK2HM4cR"
      },
      "source": [
        "#  Load\n",
        "\n",
        "from sklearn.datasets import load_breast_cancer"
      ],
      "execution_count": 2,
      "outputs": []
    },
    {
      "cell_type": "code",
      "metadata": {
        "id": "mkgZLUEdNS7f"
      },
      "source": [
        "data = load_breast_cancer()"
      ],
      "execution_count": 3,
      "outputs": []
    },
    {
      "cell_type": "code",
      "metadata": {
        "colab": {
          "base_uri": "https://localhost:8080/"
        },
        "id": "LktPFNMcNW6N",
        "outputId": "7735fc64-e6bb-4363-aaae-3622ff4f9055"
      },
      "source": [
        "type(data)"
      ],
      "execution_count": 4,
      "outputs": [
        {
          "output_type": "execute_result",
          "data": {
            "text/plain": [
              "sklearn.utils.Bunch"
            ]
          },
          "metadata": {
            "tags": []
          },
          "execution_count": 4
        }
      ]
    },
    {
      "cell_type": "markdown",
      "metadata": {
        "id": "t4cZNOBgNgEg"
      },
      "source": [
        "Bunch object is like a dictionary where we have keys like attributes"
      ]
    },
    {
      "cell_type": "code",
      "metadata": {
        "colab": {
          "base_uri": "https://localhost:8080/"
        },
        "id": "2V8_DHenNZJq",
        "outputId": "cfe499b0-fc1e-4e2f-a054-5c8012ce1f4c"
      },
      "source": [
        "data.keys()"
      ],
      "execution_count": 5,
      "outputs": [
        {
          "output_type": "execute_result",
          "data": {
            "text/plain": [
              "dict_keys(['data', 'target', 'target_names', 'DESCR', 'feature_names', 'filename'])"
            ]
          },
          "metadata": {
            "tags": []
          },
          "execution_count": 5
        }
      ]
    },
    {
      "cell_type": "code",
      "metadata": {
        "colab": {
          "base_uri": "https://localhost:8080/"
        },
        "id": "g8bWb-E4NoCY",
        "outputId": "ab95eb8f-be05-4490-8e38-80b36dc8aea9"
      },
      "source": [
        "data.data.shape"
      ],
      "execution_count": 6,
      "outputs": [
        {
          "output_type": "execute_result",
          "data": {
            "text/plain": [
              "(569, 30)"
            ]
          },
          "metadata": {
            "tags": []
          },
          "execution_count": 6
        }
      ]
    },
    {
      "cell_type": "code",
      "metadata": {
        "colab": {
          "base_uri": "https://localhost:8080/"
        },
        "id": "nSGDpeLuN0Ks",
        "outputId": "7d3d2acd-b2eb-4df0-a30c-5c5cf975503a"
      },
      "source": [
        "data.data"
      ],
      "execution_count": 8,
      "outputs": [
        {
          "output_type": "execute_result",
          "data": {
            "text/plain": [
              "array([[1.799e+01, 1.038e+01, 1.228e+02, ..., 2.654e-01, 4.601e-01,\n",
              "        1.189e-01],\n",
              "       [2.057e+01, 1.777e+01, 1.329e+02, ..., 1.860e-01, 2.750e-01,\n",
              "        8.902e-02],\n",
              "       [1.969e+01, 2.125e+01, 1.300e+02, ..., 2.430e-01, 3.613e-01,\n",
              "        8.758e-02],\n",
              "       ...,\n",
              "       [1.660e+01, 2.808e+01, 1.083e+02, ..., 1.418e-01, 2.218e-01,\n",
              "        7.820e-02],\n",
              "       [2.060e+01, 2.933e+01, 1.401e+02, ..., 2.650e-01, 4.087e-01,\n",
              "        1.240e-01],\n",
              "       [7.760e+00, 2.454e+01, 4.792e+01, ..., 0.000e+00, 2.871e-01,\n",
              "        7.039e-02]])"
            ]
          },
          "metadata": {
            "tags": []
          },
          "execution_count": 8
        }
      ]
    },
    {
      "cell_type": "code",
      "metadata": {
        "colab": {
          "base_uri": "https://localhost:8080/"
        },
        "id": "0fZVrU80N1lB",
        "outputId": "1c0786a8-09e3-4ec2-96b8-b97f9d01bded"
      },
      "source": [
        "data.target"
      ],
      "execution_count": 9,
      "outputs": [
        {
          "output_type": "execute_result",
          "data": {
            "text/plain": [
              "array([0, 0, 0, 0, 0, 0, 0, 0, 0, 0, 0, 0, 0, 0, 0, 0, 0, 0, 0, 1, 1, 1,\n",
              "       0, 0, 0, 0, 0, 0, 0, 0, 0, 0, 0, 0, 0, 0, 0, 1, 0, 0, 0, 0, 0, 0,\n",
              "       0, 0, 1, 0, 1, 1, 1, 1, 1, 0, 0, 1, 0, 0, 1, 1, 1, 1, 0, 1, 0, 0,\n",
              "       1, 1, 1, 1, 0, 1, 0, 0, 1, 0, 1, 0, 0, 1, 1, 1, 0, 0, 1, 0, 0, 0,\n",
              "       1, 1, 1, 0, 1, 1, 0, 0, 1, 1, 1, 0, 0, 1, 1, 1, 1, 0, 1, 1, 0, 1,\n",
              "       1, 1, 1, 1, 1, 1, 1, 0, 0, 0, 1, 0, 0, 1, 1, 1, 0, 0, 1, 0, 1, 0,\n",
              "       0, 1, 0, 0, 1, 1, 0, 1, 1, 0, 1, 1, 1, 1, 0, 1, 1, 1, 1, 1, 1, 1,\n",
              "       1, 1, 0, 1, 1, 1, 1, 0, 0, 1, 0, 1, 1, 0, 0, 1, 1, 0, 0, 1, 1, 1,\n",
              "       1, 0, 1, 1, 0, 0, 0, 1, 0, 1, 0, 1, 1, 1, 0, 1, 1, 0, 0, 1, 0, 0,\n",
              "       0, 0, 1, 0, 0, 0, 1, 0, 1, 0, 1, 1, 0, 1, 0, 0, 0, 0, 1, 1, 0, 0,\n",
              "       1, 1, 1, 0, 1, 1, 1, 1, 1, 0, 0, 1, 1, 0, 1, 1, 0, 0, 1, 0, 1, 1,\n",
              "       1, 1, 0, 1, 1, 1, 1, 1, 0, 1, 0, 0, 0, 0, 0, 0, 0, 0, 0, 0, 0, 0,\n",
              "       0, 0, 1, 1, 1, 1, 1, 1, 0, 1, 0, 1, 1, 0, 1, 1, 0, 1, 0, 0, 1, 1,\n",
              "       1, 1, 1, 1, 1, 1, 1, 1, 1, 1, 1, 0, 1, 1, 0, 1, 0, 1, 1, 1, 1, 1,\n",
              "       1, 1, 1, 1, 1, 1, 1, 1, 1, 0, 1, 1, 1, 0, 1, 0, 1, 1, 1, 1, 0, 0,\n",
              "       0, 1, 1, 1, 1, 0, 1, 0, 1, 0, 1, 1, 1, 0, 1, 1, 1, 1, 1, 1, 1, 0,\n",
              "       0, 0, 1, 1, 1, 1, 1, 1, 1, 1, 1, 1, 1, 0, 0, 1, 0, 0, 0, 1, 0, 0,\n",
              "       1, 1, 1, 1, 1, 0, 1, 1, 1, 1, 1, 0, 1, 1, 1, 0, 1, 1, 0, 0, 1, 1,\n",
              "       1, 1, 1, 1, 0, 1, 1, 1, 1, 1, 1, 1, 0, 1, 1, 1, 1, 1, 0, 1, 1, 0,\n",
              "       1, 1, 1, 1, 1, 1, 1, 1, 1, 1, 1, 1, 0, 1, 0, 0, 1, 0, 1, 1, 1, 1,\n",
              "       1, 0, 1, 1, 0, 1, 0, 1, 1, 0, 1, 0, 1, 1, 1, 1, 1, 1, 1, 1, 0, 0,\n",
              "       1, 1, 1, 1, 1, 1, 0, 1, 1, 1, 1, 1, 1, 1, 1, 1, 1, 0, 1, 1, 1, 1,\n",
              "       1, 1, 1, 0, 1, 0, 1, 1, 0, 1, 1, 1, 1, 1, 0, 0, 1, 0, 1, 0, 1, 1,\n",
              "       1, 1, 1, 0, 1, 1, 0, 1, 0, 1, 0, 0, 1, 1, 1, 0, 1, 1, 1, 1, 1, 1,\n",
              "       1, 1, 1, 1, 1, 0, 1, 0, 0, 1, 1, 1, 1, 1, 1, 1, 1, 1, 1, 1, 1, 1,\n",
              "       1, 1, 1, 1, 1, 1, 1, 1, 1, 1, 1, 1, 0, 0, 0, 0, 0, 0, 1])"
            ]
          },
          "metadata": {
            "tags": []
          },
          "execution_count": 9
        }
      ]
    },
    {
      "cell_type": "code",
      "metadata": {
        "colab": {
          "base_uri": "https://localhost:8080/"
        },
        "id": "abfB7XnRN_VQ",
        "outputId": "3fc0b577-87f2-4f84-e40b-f52527dd219c"
      },
      "source": [
        "data.target_names"
      ],
      "execution_count": 10,
      "outputs": [
        {
          "output_type": "execute_result",
          "data": {
            "text/plain": [
              "array(['malignant', 'benign'], dtype='<U9')"
            ]
          },
          "metadata": {
            "tags": []
          },
          "execution_count": 10
        }
      ]
    },
    {
      "cell_type": "code",
      "metadata": {
        "colab": {
          "base_uri": "https://localhost:8080/"
        },
        "id": "u2fKOCz7OGhs",
        "outputId": "2c5a4346-56c2-4af0-b7ad-c48c4ce52407"
      },
      "source": [
        "data.feature_names"
      ],
      "execution_count": 11,
      "outputs": [
        {
          "output_type": "execute_result",
          "data": {
            "text/plain": [
              "array(['mean radius', 'mean texture', 'mean perimeter', 'mean area',\n",
              "       'mean smoothness', 'mean compactness', 'mean concavity',\n",
              "       'mean concave points', 'mean symmetry', 'mean fractal dimension',\n",
              "       'radius error', 'texture error', 'perimeter error', 'area error',\n",
              "       'smoothness error', 'compactness error', 'concavity error',\n",
              "       'concave points error', 'symmetry error',\n",
              "       'fractal dimension error', 'worst radius', 'worst texture',\n",
              "       'worst perimeter', 'worst area', 'worst smoothness',\n",
              "       'worst compactness', 'worst concavity', 'worst concave points',\n",
              "       'worst symmetry', 'worst fractal dimension'], dtype='<U23')"
            ]
          },
          "metadata": {
            "tags": []
          },
          "execution_count": 11
        }
      ]
    },
    {
      "cell_type": "code",
      "metadata": {
        "colab": {
          "base_uri": "https://localhost:8080/"
        },
        "id": "dSaTQtksOQrM",
        "outputId": "ecf03099-f38d-44a5-fc06-861ab8713cb2"
      },
      "source": [
        "len(data.feature_names)"
      ],
      "execution_count": 12,
      "outputs": [
        {
          "output_type": "execute_result",
          "data": {
            "text/plain": [
              "30"
            ]
          },
          "metadata": {
            "tags": []
          },
          "execution_count": 12
        }
      ]
    },
    {
      "cell_type": "code",
      "metadata": {
        "colab": {
          "base_uri": "https://localhost:8080/",
          "height": 809
        },
        "id": "RthpTX_qOg8E",
        "outputId": "1fe60f43-5517-48d7-cf57-6f0f0ccd74b8"
      },
      "source": [
        "data.DESCR"
      ],
      "execution_count": 13,
      "outputs": [
        {
          "output_type": "execute_result",
          "data": {
            "application/vnd.google.colaboratory.intrinsic+json": {
              "type": "string"
            },
            "text/plain": [
              "'.. _breast_cancer_dataset:\\n\\nBreast cancer wisconsin (diagnostic) dataset\\n--------------------------------------------\\n\\n**Data Set Characteristics:**\\n\\n    :Number of Instances: 569\\n\\n    :Number of Attributes: 30 numeric, predictive attributes and the class\\n\\n    :Attribute Information:\\n        - radius (mean of distances from center to points on the perimeter)\\n        - texture (standard deviation of gray-scale values)\\n        - perimeter\\n        - area\\n        - smoothness (local variation in radius lengths)\\n        - compactness (perimeter^2 / area - 1.0)\\n        - concavity (severity of concave portions of the contour)\\n        - concave points (number of concave portions of the contour)\\n        - symmetry \\n        - fractal dimension (\"coastline approximation\" - 1)\\n\\n        The mean, standard error, and \"worst\" or largest (mean of the three\\n        largest values) of these features were computed for each image,\\n        resulting in 30 features.  For instance, field 3 is Mean Radius, field\\n        13 is Radius SE, field 23 is Worst Radius.\\n\\n        - class:\\n                - WDBC-Malignant\\n                - WDBC-Benign\\n\\n    :Summary Statistics:\\n\\n    ===================================== ====== ======\\n                                           Min    Max\\n    ===================================== ====== ======\\n    radius (mean):                        6.981  28.11\\n    texture (mean):                       9.71   39.28\\n    perimeter (mean):                     43.79  188.5\\n    area (mean):                          143.5  2501.0\\n    smoothness (mean):                    0.053  0.163\\n    compactness (mean):                   0.019  0.345\\n    concavity (mean):                     0.0    0.427\\n    concave points (mean):                0.0    0.201\\n    symmetry (mean):                      0.106  0.304\\n    fractal dimension (mean):             0.05   0.097\\n    radius (standard error):              0.112  2.873\\n    texture (standard error):             0.36   4.885\\n    perimeter (standard error):           0.757  21.98\\n    area (standard error):                6.802  542.2\\n    smoothness (standard error):          0.002  0.031\\n    compactness (standard error):         0.002  0.135\\n    concavity (standard error):           0.0    0.396\\n    concave points (standard error):      0.0    0.053\\n    symmetry (standard error):            0.008  0.079\\n    fractal dimension (standard error):   0.001  0.03\\n    radius (worst):                       7.93   36.04\\n    texture (worst):                      12.02  49.54\\n    perimeter (worst):                    50.41  251.2\\n    area (worst):                         185.2  4254.0\\n    smoothness (worst):                   0.071  0.223\\n    compactness (worst):                  0.027  1.058\\n    concavity (worst):                    0.0    1.252\\n    concave points (worst):               0.0    0.291\\n    symmetry (worst):                     0.156  0.664\\n    fractal dimension (worst):            0.055  0.208\\n    ===================================== ====== ======\\n\\n    :Missing Attribute Values: None\\n\\n    :Class Distribution: 212 - Malignant, 357 - Benign\\n\\n    :Creator:  Dr. William H. Wolberg, W. Nick Street, Olvi L. Mangasarian\\n\\n    :Donor: Nick Street\\n\\n    :Date: November, 1995\\n\\nThis is a copy of UCI ML Breast Cancer Wisconsin (Diagnostic) datasets.\\nhttps://goo.gl/U2Uwz2\\n\\nFeatures are computed from a digitized image of a fine needle\\naspirate (FNA) of a breast mass.  They describe\\ncharacteristics of the cell nuclei present in the image.\\n\\nSeparating plane described above was obtained using\\nMultisurface Method-Tree (MSM-T) [K. P. Bennett, \"Decision Tree\\nConstruction Via Linear Programming.\" Proceedings of the 4th\\nMidwest Artificial Intelligence and Cognitive Science Society,\\npp. 97-101, 1992], a classification method which uses linear\\nprogramming to construct a decision tree.  Relevant features\\nwere selected using an exhaustive search in the space of 1-4\\nfeatures and 1-3 separating planes.\\n\\nThe actual linear program used to obtain the separating plane\\nin the 3-dimensional space is that described in:\\n[K. P. Bennett and O. L. Mangasarian: \"Robust Linear\\nProgramming Discrimination of Two Linearly Inseparable Sets\",\\nOptimization Methods and Software 1, 1992, 23-34].\\n\\nThis database is also available through the UW CS ftp server:\\n\\nftp ftp.cs.wisc.edu\\ncd math-prog/cpo-dataset/machine-learn/WDBC/\\n\\n.. topic:: References\\n\\n   - W.N. Street, W.H. Wolberg and O.L. Mangasarian. Nuclear feature extraction \\n     for breast tumor diagnosis. IS&T/SPIE 1993 International Symposium on \\n     Electronic Imaging: Science and Technology, volume 1905, pages 861-870,\\n     San Jose, CA, 1993.\\n   - O.L. Mangasarian, W.N. Street and W.H. Wolberg. Breast cancer diagnosis and \\n     prognosis via linear programming. Operations Research, 43(4), pages 570-577, \\n     July-August 1995.\\n   - W.H. Wolberg, W.N. Street, and O.L. Mangasarian. Machine learning techniques\\n     to diagnose breast cancer from fine-needle aspirates. Cancer Letters 77 (1994) \\n     163-171.'"
            ]
          },
          "metadata": {
            "tags": []
          },
          "execution_count": 13
        }
      ]
    },
    {
      "cell_type": "code",
      "metadata": {
        "colab": {
          "base_uri": "https://localhost:8080/",
          "height": 35
        },
        "id": "aVBC9i2ROp4l",
        "outputId": "35c03e41-82be-4d55-f09e-8d74a22f061b"
      },
      "source": [
        "data.filename"
      ],
      "execution_count": 14,
      "outputs": [
        {
          "output_type": "execute_result",
          "data": {
            "application/vnd.google.colaboratory.intrinsic+json": {
              "type": "string"
            },
            "text/plain": [
              "'/usr/local/lib/python3.6/dist-packages/sklearn/datasets/data/breast_cancer.csv'"
            ]
          },
          "metadata": {
            "tags": []
          },
          "execution_count": 14
        }
      ]
    },
    {
      "cell_type": "code",
      "metadata": {
        "id": "B4BMrTxKOvGM"
      },
      "source": [
        "from sklearn.model_selection import train_test_split\n",
        "\n",
        "X_train, X_test, y_train, y_test = train_test_split(data.data, data.target, test_size=0.33)"
      ],
      "execution_count": 15,
      "outputs": []
    },
    {
      "cell_type": "code",
      "metadata": {
        "colab": {
          "base_uri": "https://localhost:8080/"
        },
        "id": "ju9qXKHbPUSb",
        "outputId": "8181cca0-6fc6-4b94-b9f6-03c718da8407"
      },
      "source": [
        "X_train"
      ],
      "execution_count": 17,
      "outputs": [
        {
          "output_type": "execute_result",
          "data": {
            "text/plain": [
              "array([[1.440e+01, 2.699e+01, 9.225e+01, ..., 5.563e-02, 2.345e-01,\n",
              "        6.464e-02],\n",
              "       [8.598e+00, 2.098e+01, 5.466e+01, ..., 2.778e-02, 2.972e-01,\n",
              "        7.712e-02],\n",
              "       [1.051e+01, 2.019e+01, 6.864e+01, ..., 6.136e-02, 2.383e-01,\n",
              "        9.026e-02],\n",
              "       ...,\n",
              "       [1.845e+01, 2.191e+01, 1.202e+02, ..., 1.379e-01, 3.109e-01,\n",
              "        7.610e-02],\n",
              "       [2.013e+01, 2.825e+01, 1.312e+02, ..., 1.628e-01, 2.572e-01,\n",
              "        6.637e-02],\n",
              "       [1.189e+01, 2.117e+01, 7.639e+01, ..., 8.263e-02, 3.075e-01,\n",
              "        7.351e-02]])"
            ]
          },
          "metadata": {
            "tags": []
          },
          "execution_count": 17
        }
      ]
    },
    {
      "cell_type": "code",
      "metadata": {
        "colab": {
          "base_uri": "https://localhost:8080/"
        },
        "id": "QBQ-UWlNPZfx",
        "outputId": "2638c016-abf1-430d-b1cd-676d3c3f02c2"
      },
      "source": [
        "X_train[0]"
      ],
      "execution_count": 18,
      "outputs": [
        {
          "output_type": "execute_result",
          "data": {
            "text/plain": [
              "array([1.440e+01, 2.699e+01, 9.225e+01, 6.461e+02, 6.995e-02, 5.223e-02,\n",
              "       3.476e-02, 1.737e-02, 1.707e-01, 5.433e-02, 2.315e-01, 9.112e-01,\n",
              "       1.727e+00, 2.052e+01, 5.356e-03, 1.679e-02, 1.971e-02, 6.370e-03,\n",
              "       1.414e-02, 1.892e-03, 1.540e+01, 3.198e+01, 1.004e+02, 7.346e+02,\n",
              "       1.017e-01, 1.460e-01, 1.472e-01, 5.563e-02, 2.345e-01, 6.464e-02])"
            ]
          },
          "metadata": {
            "tags": []
          },
          "execution_count": 18
        }
      ]
    },
    {
      "cell_type": "code",
      "metadata": {
        "colab": {
          "base_uri": "https://localhost:8080/"
        },
        "id": "Ewfa61imPaU9",
        "outputId": "f0a0979c-1da2-4f04-cbf7-c6a932c89eb7"
      },
      "source": [
        "len(X_train[0])"
      ],
      "execution_count": 20,
      "outputs": [
        {
          "output_type": "execute_result",
          "data": {
            "text/plain": [
              "30"
            ]
          },
          "metadata": {
            "tags": []
          },
          "execution_count": 20
        }
      ]
    },
    {
      "cell_type": "code",
      "metadata": {
        "colab": {
          "base_uri": "https://localhost:8080/"
        },
        "id": "oz87bPLmPhSa",
        "outputId": "19d82410-3210-49a3-fbb4-dbc525b8114f"
      },
      "source": [
        "X_train.shape"
      ],
      "execution_count": 21,
      "outputs": [
        {
          "output_type": "execute_result",
          "data": {
            "text/plain": [
              "(381, 30)"
            ]
          },
          "metadata": {
            "tags": []
          },
          "execution_count": 21
        }
      ]
    },
    {
      "cell_type": "code",
      "metadata": {
        "colab": {
          "base_uri": "https://localhost:8080/"
        },
        "id": "Hy4m2jAnPjUB",
        "outputId": "641f2d9a-0cd3-4fd5-afb5-cc01afe82c7c"
      },
      "source": [
        "N, D = X_train.shape\n",
        "\n",
        "# N = No of rows\n",
        "# D = No of cols/features\n",
        "\n",
        "print(N,D)"
      ],
      "execution_count": 22,
      "outputs": [
        {
          "output_type": "stream",
          "text": [
            "381 30\n"
          ],
          "name": "stdout"
        }
      ]
    },
    {
      "cell_type": "code",
      "metadata": {
        "id": "Qb1jzt1cP26U"
      },
      "source": [
        "# Scaling\n",
        "\n",
        "from sklearn.preprocessing import StandardScaler\n",
        "scaler = StandardScaler()\n",
        "X_train = scaler.fit_transform(X_train)\n",
        "X_test = scaler.transform(X_test)"
      ],
      "execution_count": 23,
      "outputs": []
    },
    {
      "cell_type": "markdown",
      "metadata": {
        "id": "QNy_vHnSQXud"
      },
      "source": [
        "TensorFlow\n",
        "\n",
        "First I will building a MODEL, of type SEQUENTIAL.\n",
        "\n",
        "SEQUENTIAL consists of 2 objects:\n",
        "\n",
        "1. Input: Placeholder. Used to specify the size of the input features i.e. D in our case\n",
        "\n",
        "2. Dense: Real work i.e. Model learning happens here.\n",
        "\n",
        "This is a classification problem. Therefore the Activation function used at the Output layer is: Sigmoid"
      ]
    },
    {
      "cell_type": "code",
      "metadata": {
        "id": "vpNHgr8WQVEu"
      },
      "source": [
        "# Build a model\n",
        "\n",
        "# There are 2 ways:\n",
        "\n",
        "# WAY1:\n",
        "\n",
        "# model = tf.keras.models.Sequential([\n",
        "#                             tf.keras.layers.Input(shape=(D,)),\n",
        "#                             tf.keras.layers.Dense(1,activation='sigmoid')\n",
        "# ])\n",
        "\n",
        "# WAY2:\n",
        "\n",
        "model = tf.keras.models.Sequential()\n",
        "model.add(tf.keras.layers.Dense(1, input_shape=(D,), activation='sigmoid'))"
      ],
      "execution_count": 24,
      "outputs": []
    },
    {
      "cell_type": "code",
      "metadata": {
        "id": "3lHcVWb_TuZd"
      },
      "source": [
        "model.compile(\n",
        "    optimizer='adam',\n",
        "    loss='binary_crossentropy',\n",
        "    metrics=['accuracy']\n",
        ")"
      ],
      "execution_count": 25,
      "outputs": []
    },
    {
      "cell_type": "code",
      "metadata": {
        "colab": {
          "base_uri": "https://localhost:8080/"
        },
        "id": "F04AX-CxUveR",
        "outputId": "8639191d-4650-44e3-dd67-d40c32ba5622"
      },
      "source": [
        "# Train the model for 100 epochs\n",
        "\n",
        "r = model.fit(X_train, y_train, validation_data=(X_test, y_test), epochs=100)"
      ],
      "execution_count": 26,
      "outputs": [
        {
          "output_type": "stream",
          "text": [
            "Epoch 1/100\n",
            "12/12 [==============================] - 0s 13ms/step - loss: 1.3673 - accuracy: 0.2572 - val_loss: 1.3302 - val_accuracy: 0.3404\n",
            "Epoch 2/100\n",
            "12/12 [==============================] - 0s 2ms/step - loss: 1.2561 - accuracy: 0.2861 - val_loss: 1.2110 - val_accuracy: 0.3723\n",
            "Epoch 3/100\n",
            "12/12 [==============================] - 0s 3ms/step - loss: 1.1518 - accuracy: 0.3176 - val_loss: 1.1011 - val_accuracy: 0.4096\n",
            "Epoch 4/100\n",
            "12/12 [==============================] - 0s 3ms/step - loss: 1.0571 - accuracy: 0.3596 - val_loss: 1.0009 - val_accuracy: 0.4468\n",
            "Epoch 5/100\n",
            "12/12 [==============================] - 0s 3ms/step - loss: 0.9703 - accuracy: 0.4016 - val_loss: 0.9115 - val_accuracy: 0.4734\n",
            "Epoch 6/100\n",
            "12/12 [==============================] - 0s 3ms/step - loss: 0.8965 - accuracy: 0.4541 - val_loss: 0.8291 - val_accuracy: 0.5160\n",
            "Epoch 7/100\n",
            "12/12 [==============================] - 0s 3ms/step - loss: 0.8249 - accuracy: 0.5092 - val_loss: 0.7600 - val_accuracy: 0.5691\n",
            "Epoch 8/100\n",
            "12/12 [==============================] - 0s 3ms/step - loss: 0.7646 - accuracy: 0.5722 - val_loss: 0.6982 - val_accuracy: 0.6064\n",
            "Epoch 9/100\n",
            "12/12 [==============================] - 0s 3ms/step - loss: 0.7115 - accuracy: 0.6142 - val_loss: 0.6439 - val_accuracy: 0.6277\n",
            "Epoch 10/100\n",
            "12/12 [==============================] - 0s 3ms/step - loss: 0.6642 - accuracy: 0.6535 - val_loss: 0.5962 - val_accuracy: 0.6809\n",
            "Epoch 11/100\n",
            "12/12 [==============================] - 0s 3ms/step - loss: 0.6219 - accuracy: 0.6955 - val_loss: 0.5542 - val_accuracy: 0.7181\n",
            "Epoch 12/100\n",
            "12/12 [==============================] - 0s 3ms/step - loss: 0.5845 - accuracy: 0.7165 - val_loss: 0.5173 - val_accuracy: 0.7553\n",
            "Epoch 13/100\n",
            "12/12 [==============================] - 0s 4ms/step - loss: 0.5514 - accuracy: 0.7428 - val_loss: 0.4841 - val_accuracy: 0.7979\n",
            "Epoch 14/100\n",
            "12/12 [==============================] - 0s 3ms/step - loss: 0.5208 - accuracy: 0.7612 - val_loss: 0.4555 - val_accuracy: 0.7979\n",
            "Epoch 15/100\n",
            "12/12 [==============================] - 0s 3ms/step - loss: 0.4943 - accuracy: 0.7690 - val_loss: 0.4294 - val_accuracy: 0.8138\n",
            "Epoch 16/100\n",
            "12/12 [==============================] - 0s 3ms/step - loss: 0.4702 - accuracy: 0.7769 - val_loss: 0.4058 - val_accuracy: 0.8457\n",
            "Epoch 17/100\n",
            "12/12 [==============================] - 0s 3ms/step - loss: 0.4474 - accuracy: 0.7927 - val_loss: 0.3851 - val_accuracy: 0.8670\n",
            "Epoch 18/100\n",
            "12/12 [==============================] - 0s 3ms/step - loss: 0.4275 - accuracy: 0.7979 - val_loss: 0.3660 - val_accuracy: 0.8723\n",
            "Epoch 19/100\n",
            "12/12 [==============================] - 0s 3ms/step - loss: 0.4093 - accuracy: 0.8110 - val_loss: 0.3486 - val_accuracy: 0.8883\n",
            "Epoch 20/100\n",
            "12/12 [==============================] - 0s 2ms/step - loss: 0.3923 - accuracy: 0.8241 - val_loss: 0.3329 - val_accuracy: 0.8883\n",
            "Epoch 21/100\n",
            "12/12 [==============================] - 0s 3ms/step - loss: 0.3766 - accuracy: 0.8399 - val_loss: 0.3187 - val_accuracy: 0.8936\n",
            "Epoch 22/100\n",
            "12/12 [==============================] - 0s 3ms/step - loss: 0.3629 - accuracy: 0.8504 - val_loss: 0.3054 - val_accuracy: 0.8989\n",
            "Epoch 23/100\n",
            "12/12 [==============================] - 0s 3ms/step - loss: 0.3491 - accuracy: 0.8583 - val_loss: 0.2936 - val_accuracy: 0.9043\n",
            "Epoch 24/100\n",
            "12/12 [==============================] - 0s 3ms/step - loss: 0.3372 - accuracy: 0.8609 - val_loss: 0.2825 - val_accuracy: 0.9096\n",
            "Epoch 25/100\n",
            "12/12 [==============================] - 0s 3ms/step - loss: 0.3258 - accuracy: 0.8714 - val_loss: 0.2723 - val_accuracy: 0.9149\n",
            "Epoch 26/100\n",
            "12/12 [==============================] - 0s 3ms/step - loss: 0.3157 - accuracy: 0.8714 - val_loss: 0.2626 - val_accuracy: 0.9255\n",
            "Epoch 27/100\n",
            "12/12 [==============================] - 0s 3ms/step - loss: 0.3057 - accuracy: 0.8793 - val_loss: 0.2538 - val_accuracy: 0.9362\n",
            "Epoch 28/100\n",
            "12/12 [==============================] - 0s 3ms/step - loss: 0.2966 - accuracy: 0.8871 - val_loss: 0.2456 - val_accuracy: 0.9309\n",
            "Epoch 29/100\n",
            "12/12 [==============================] - 0s 3ms/step - loss: 0.2881 - accuracy: 0.8976 - val_loss: 0.2379 - val_accuracy: 0.9362\n",
            "Epoch 30/100\n",
            "12/12 [==============================] - 0s 3ms/step - loss: 0.2802 - accuracy: 0.9081 - val_loss: 0.2309 - val_accuracy: 0.9362\n",
            "Epoch 31/100\n",
            "12/12 [==============================] - 0s 3ms/step - loss: 0.2727 - accuracy: 0.9186 - val_loss: 0.2242 - val_accuracy: 0.9415\n",
            "Epoch 32/100\n",
            "12/12 [==============================] - 0s 3ms/step - loss: 0.2659 - accuracy: 0.9186 - val_loss: 0.2180 - val_accuracy: 0.9415\n",
            "Epoch 33/100\n",
            "12/12 [==============================] - 0s 3ms/step - loss: 0.2592 - accuracy: 0.9186 - val_loss: 0.2120 - val_accuracy: 0.9415\n",
            "Epoch 34/100\n",
            "12/12 [==============================] - 0s 3ms/step - loss: 0.2531 - accuracy: 0.9239 - val_loss: 0.2064 - val_accuracy: 0.9415\n",
            "Epoch 35/100\n",
            "12/12 [==============================] - 0s 3ms/step - loss: 0.2472 - accuracy: 0.9265 - val_loss: 0.2012 - val_accuracy: 0.9415\n",
            "Epoch 36/100\n",
            "12/12 [==============================] - 0s 3ms/step - loss: 0.2417 - accuracy: 0.9291 - val_loss: 0.1965 - val_accuracy: 0.9415\n",
            "Epoch 37/100\n",
            "12/12 [==============================] - 0s 3ms/step - loss: 0.2366 - accuracy: 0.9318 - val_loss: 0.1917 - val_accuracy: 0.9574\n",
            "Epoch 38/100\n",
            "12/12 [==============================] - 0s 3ms/step - loss: 0.2316 - accuracy: 0.9318 - val_loss: 0.1873 - val_accuracy: 0.9574\n",
            "Epoch 39/100\n",
            "12/12 [==============================] - 0s 3ms/step - loss: 0.2271 - accuracy: 0.9344 - val_loss: 0.1831 - val_accuracy: 0.9574\n",
            "Epoch 40/100\n",
            "12/12 [==============================] - 0s 3ms/step - loss: 0.2226 - accuracy: 0.9370 - val_loss: 0.1792 - val_accuracy: 0.9574\n",
            "Epoch 41/100\n",
            "12/12 [==============================] - 0s 3ms/step - loss: 0.2185 - accuracy: 0.9396 - val_loss: 0.1754 - val_accuracy: 0.9574\n",
            "Epoch 42/100\n",
            "12/12 [==============================] - 0s 3ms/step - loss: 0.2145 - accuracy: 0.9423 - val_loss: 0.1718 - val_accuracy: 0.9574\n",
            "Epoch 43/100\n",
            "12/12 [==============================] - 0s 3ms/step - loss: 0.2108 - accuracy: 0.9423 - val_loss: 0.1684 - val_accuracy: 0.9574\n",
            "Epoch 44/100\n",
            "12/12 [==============================] - 0s 3ms/step - loss: 0.2072 - accuracy: 0.9423 - val_loss: 0.1652 - val_accuracy: 0.9628\n",
            "Epoch 45/100\n",
            "12/12 [==============================] - 0s 3ms/step - loss: 0.2038 - accuracy: 0.9423 - val_loss: 0.1622 - val_accuracy: 0.9628\n",
            "Epoch 46/100\n",
            "12/12 [==============================] - 0s 3ms/step - loss: 0.2006 - accuracy: 0.9423 - val_loss: 0.1592 - val_accuracy: 0.9628\n",
            "Epoch 47/100\n",
            "12/12 [==============================] - 0s 3ms/step - loss: 0.1975 - accuracy: 0.9423 - val_loss: 0.1564 - val_accuracy: 0.9628\n",
            "Epoch 48/100\n",
            "12/12 [==============================] - 0s 3ms/step - loss: 0.1946 - accuracy: 0.9449 - val_loss: 0.1537 - val_accuracy: 0.9628\n",
            "Epoch 49/100\n",
            "12/12 [==============================] - 0s 3ms/step - loss: 0.1917 - accuracy: 0.9475 - val_loss: 0.1511 - val_accuracy: 0.9628\n",
            "Epoch 50/100\n",
            "12/12 [==============================] - 0s 3ms/step - loss: 0.1890 - accuracy: 0.9475 - val_loss: 0.1486 - val_accuracy: 0.9628\n",
            "Epoch 51/100\n",
            "12/12 [==============================] - 0s 2ms/step - loss: 0.1865 - accuracy: 0.9475 - val_loss: 0.1462 - val_accuracy: 0.9681\n",
            "Epoch 52/100\n",
            "12/12 [==============================] - 0s 3ms/step - loss: 0.1840 - accuracy: 0.9475 - val_loss: 0.1439 - val_accuracy: 0.9681\n",
            "Epoch 53/100\n",
            "12/12 [==============================] - 0s 3ms/step - loss: 0.1816 - accuracy: 0.9475 - val_loss: 0.1417 - val_accuracy: 0.9681\n",
            "Epoch 54/100\n",
            "12/12 [==============================] - 0s 3ms/step - loss: 0.1793 - accuracy: 0.9475 - val_loss: 0.1396 - val_accuracy: 0.9681\n",
            "Epoch 55/100\n",
            "12/12 [==============================] - 0s 3ms/step - loss: 0.1771 - accuracy: 0.9475 - val_loss: 0.1375 - val_accuracy: 0.9681\n",
            "Epoch 56/100\n",
            "12/12 [==============================] - 0s 3ms/step - loss: 0.1750 - accuracy: 0.9501 - val_loss: 0.1355 - val_accuracy: 0.9681\n",
            "Epoch 57/100\n",
            "12/12 [==============================] - 0s 3ms/step - loss: 0.1730 - accuracy: 0.9501 - val_loss: 0.1337 - val_accuracy: 0.9681\n",
            "Epoch 58/100\n",
            "12/12 [==============================] - 0s 3ms/step - loss: 0.1711 - accuracy: 0.9501 - val_loss: 0.1318 - val_accuracy: 0.9681\n",
            "Epoch 59/100\n",
            "12/12 [==============================] - 0s 3ms/step - loss: 0.1692 - accuracy: 0.9501 - val_loss: 0.1300 - val_accuracy: 0.9681\n",
            "Epoch 60/100\n",
            "12/12 [==============================] - 0s 3ms/step - loss: 0.1674 - accuracy: 0.9528 - val_loss: 0.1283 - val_accuracy: 0.9681\n",
            "Epoch 61/100\n",
            "12/12 [==============================] - 0s 3ms/step - loss: 0.1656 - accuracy: 0.9528 - val_loss: 0.1266 - val_accuracy: 0.9681\n",
            "Epoch 62/100\n",
            "12/12 [==============================] - 0s 3ms/step - loss: 0.1639 - accuracy: 0.9528 - val_loss: 0.1250 - val_accuracy: 0.9681\n",
            "Epoch 63/100\n",
            "12/12 [==============================] - 0s 3ms/step - loss: 0.1623 - accuracy: 0.9554 - val_loss: 0.1235 - val_accuracy: 0.9681\n",
            "Epoch 64/100\n",
            "12/12 [==============================] - 0s 3ms/step - loss: 0.1607 - accuracy: 0.9554 - val_loss: 0.1220 - val_accuracy: 0.9681\n",
            "Epoch 65/100\n",
            "12/12 [==============================] - 0s 3ms/step - loss: 0.1591 - accuracy: 0.9580 - val_loss: 0.1205 - val_accuracy: 0.9681\n",
            "Epoch 66/100\n",
            "12/12 [==============================] - 0s 3ms/step - loss: 0.1577 - accuracy: 0.9580 - val_loss: 0.1191 - val_accuracy: 0.9681\n",
            "Epoch 67/100\n",
            "12/12 [==============================] - 0s 3ms/step - loss: 0.1562 - accuracy: 0.9580 - val_loss: 0.1177 - val_accuracy: 0.9681\n",
            "Epoch 68/100\n",
            "12/12 [==============================] - 0s 3ms/step - loss: 0.1549 - accuracy: 0.9580 - val_loss: 0.1164 - val_accuracy: 0.9681\n",
            "Epoch 69/100\n",
            "12/12 [==============================] - 0s 3ms/step - loss: 0.1535 - accuracy: 0.9580 - val_loss: 0.1151 - val_accuracy: 0.9681\n",
            "Epoch 70/100\n",
            "12/12 [==============================] - 0s 3ms/step - loss: 0.1522 - accuracy: 0.9580 - val_loss: 0.1138 - val_accuracy: 0.9681\n",
            "Epoch 71/100\n",
            "12/12 [==============================] - 0s 3ms/step - loss: 0.1509 - accuracy: 0.9606 - val_loss: 0.1126 - val_accuracy: 0.9681\n",
            "Epoch 72/100\n",
            "12/12 [==============================] - 0s 2ms/step - loss: 0.1497 - accuracy: 0.9606 - val_loss: 0.1114 - val_accuracy: 0.9681\n",
            "Epoch 73/100\n",
            "12/12 [==============================] - 0s 3ms/step - loss: 0.1485 - accuracy: 0.9606 - val_loss: 0.1102 - val_accuracy: 0.9681\n",
            "Epoch 74/100\n",
            "12/12 [==============================] - 0s 3ms/step - loss: 0.1473 - accuracy: 0.9606 - val_loss: 0.1091 - val_accuracy: 0.9681\n",
            "Epoch 75/100\n",
            "12/12 [==============================] - 0s 3ms/step - loss: 0.1462 - accuracy: 0.9606 - val_loss: 0.1080 - val_accuracy: 0.9681\n",
            "Epoch 76/100\n",
            "12/12 [==============================] - 0s 3ms/step - loss: 0.1451 - accuracy: 0.9606 - val_loss: 0.1069 - val_accuracy: 0.9681\n",
            "Epoch 77/100\n",
            "12/12 [==============================] - 0s 3ms/step - loss: 0.1439 - accuracy: 0.9606 - val_loss: 0.1059 - val_accuracy: 0.9681\n",
            "Epoch 78/100\n",
            "12/12 [==============================] - 0s 3ms/step - loss: 0.1429 - accuracy: 0.9606 - val_loss: 0.1049 - val_accuracy: 0.9681\n",
            "Epoch 79/100\n",
            "12/12 [==============================] - 0s 3ms/step - loss: 0.1419 - accuracy: 0.9606 - val_loss: 0.1039 - val_accuracy: 0.9734\n",
            "Epoch 80/100\n",
            "12/12 [==============================] - 0s 3ms/step - loss: 0.1409 - accuracy: 0.9606 - val_loss: 0.1029 - val_accuracy: 0.9734\n",
            "Epoch 81/100\n",
            "12/12 [==============================] - 0s 3ms/step - loss: 0.1399 - accuracy: 0.9606 - val_loss: 0.1020 - val_accuracy: 0.9734\n",
            "Epoch 82/100\n",
            "12/12 [==============================] - 0s 3ms/step - loss: 0.1390 - accuracy: 0.9606 - val_loss: 0.1010 - val_accuracy: 0.9734\n",
            "Epoch 83/100\n",
            "12/12 [==============================] - 0s 3ms/step - loss: 0.1380 - accuracy: 0.9606 - val_loss: 0.1001 - val_accuracy: 0.9787\n",
            "Epoch 84/100\n",
            "12/12 [==============================] - 0s 3ms/step - loss: 0.1371 - accuracy: 0.9606 - val_loss: 0.0993 - val_accuracy: 0.9787\n",
            "Epoch 85/100\n",
            "12/12 [==============================] - 0s 3ms/step - loss: 0.1362 - accuracy: 0.9606 - val_loss: 0.0984 - val_accuracy: 0.9787\n",
            "Epoch 86/100\n",
            "12/12 [==============================] - 0s 3ms/step - loss: 0.1354 - accuracy: 0.9606 - val_loss: 0.0976 - val_accuracy: 0.9787\n",
            "Epoch 87/100\n",
            "12/12 [==============================] - 0s 3ms/step - loss: 0.1345 - accuracy: 0.9606 - val_loss: 0.0967 - val_accuracy: 0.9787\n",
            "Epoch 88/100\n",
            "12/12 [==============================] - 0s 3ms/step - loss: 0.1337 - accuracy: 0.9633 - val_loss: 0.0959 - val_accuracy: 0.9787\n",
            "Epoch 89/100\n",
            "12/12 [==============================] - 0s 3ms/step - loss: 0.1329 - accuracy: 0.9633 - val_loss: 0.0951 - val_accuracy: 0.9787\n",
            "Epoch 90/100\n",
            "12/12 [==============================] - 0s 3ms/step - loss: 0.1321 - accuracy: 0.9659 - val_loss: 0.0944 - val_accuracy: 0.9787\n",
            "Epoch 91/100\n",
            "12/12 [==============================] - 0s 3ms/step - loss: 0.1313 - accuracy: 0.9659 - val_loss: 0.0936 - val_accuracy: 0.9787\n",
            "Epoch 92/100\n",
            "12/12 [==============================] - 0s 3ms/step - loss: 0.1306 - accuracy: 0.9659 - val_loss: 0.0929 - val_accuracy: 0.9787\n",
            "Epoch 93/100\n",
            "12/12 [==============================] - 0s 3ms/step - loss: 0.1298 - accuracy: 0.9659 - val_loss: 0.0922 - val_accuracy: 0.9787\n",
            "Epoch 94/100\n",
            "12/12 [==============================] - 0s 3ms/step - loss: 0.1291 - accuracy: 0.9659 - val_loss: 0.0915 - val_accuracy: 0.9787\n",
            "Epoch 95/100\n",
            "12/12 [==============================] - 0s 3ms/step - loss: 0.1284 - accuracy: 0.9659 - val_loss: 0.0908 - val_accuracy: 0.9787\n",
            "Epoch 96/100\n",
            "12/12 [==============================] - 0s 3ms/step - loss: 0.1277 - accuracy: 0.9659 - val_loss: 0.0901 - val_accuracy: 0.9787\n",
            "Epoch 97/100\n",
            "12/12 [==============================] - 0s 3ms/step - loss: 0.1270 - accuracy: 0.9659 - val_loss: 0.0894 - val_accuracy: 0.9787\n",
            "Epoch 98/100\n",
            "12/12 [==============================] - 0s 3ms/step - loss: 0.1263 - accuracy: 0.9659 - val_loss: 0.0888 - val_accuracy: 0.9787\n",
            "Epoch 99/100\n",
            "12/12 [==============================] - 0s 3ms/step - loss: 0.1257 - accuracy: 0.9659 - val_loss: 0.0882 - val_accuracy: 0.9787\n",
            "Epoch 100/100\n",
            "12/12 [==============================] - 0s 3ms/step - loss: 0.1251 - accuracy: 0.9659 - val_loss: 0.0876 - val_accuracy: 0.9787\n"
          ],
          "name": "stdout"
        }
      ]
    },
    {
      "cell_type": "code",
      "metadata": {
        "colab": {
          "base_uri": "https://localhost:8080/"
        },
        "id": "e7t5h2xMWXX6",
        "outputId": "e3e4247c-0c96-424e-c31e-10d7ed28dd02"
      },
      "source": [
        "# Evaluate\n",
        "\n",
        "print(model.evaluate(X_train, y_train))\n",
        "print(model.evaluate(X_test, y_test))"
      ],
      "execution_count": 28,
      "outputs": [
        {
          "output_type": "stream",
          "text": [
            "12/12 [==============================] - 0s 1ms/step - loss: 0.1247 - accuracy: 0.9659\n",
            "[0.12465892732143402, 0.9658792614936829]\n",
            "6/6 [==============================] - 0s 2ms/step - loss: 0.0876 - accuracy: 0.9787\n",
            "[0.08757907897233963, 0.978723406791687]\n"
          ],
          "name": "stdout"
        }
      ]
    },
    {
      "cell_type": "code",
      "metadata": {
        "colab": {
          "base_uri": "https://localhost:8080/",
          "height": 295
        },
        "id": "BBEljHhSXQBd",
        "outputId": "96887595-0423-419c-bdda-34a9aaa29d0a"
      },
      "source": [
        "# Plot\n",
        "\n",
        "import matplotlib.pyplot as plt\n",
        "plt.plot(r.history['loss'], label='loss')\n",
        "plt.plot(r.history['val_loss'], label='val_loss')\n",
        "plt.title(\"Loss and Validation Loss\", loc='center')\n",
        "plt.xlabel(\"Loss and Val Loss\")\n",
        "plt.ylabel(\"Iteration\")\n",
        "plt.legend();"
      ],
      "execution_count": 29,
      "outputs": [
        {
          "output_type": "display_data",
          "data": {
            "image/png": "[encoded data removed]",
            "text/plain": [
              "<Figure size 432x288 with 1 Axes>"
            ]
          },
          "metadata": {
            "tags": [],
            "needs_background": "light"
          }
        }
      ]
    },
    {
      "cell_type": "markdown",
      "metadata": {
        "id": "lggaxm9QYoao"
      },
      "source": [
        "There is a steady decrease in the loss per iteration as expected."
      ]
    },
    {
      "cell_type": "code",
      "metadata": {
        "colab": {
          "base_uri": "https://localhost:8080/",
          "height": 295
        },
        "id": "ezYmDZhLYR8o",
        "outputId": "6ebf55b1-1e04-47fb-9647-4ddf03266161"
      },
      "source": [
        "# Plot accuracy\n",
        "\n",
        "import matplotlib.pyplot as plt\n",
        "plt.plot(r.history['accuracy'], label='acc')\n",
        "plt.plot(r.history['val_accuracy'], label='val_acc')\n",
        "plt.title(\"Accuracy and Validation Accuracy\", loc='center')\n",
        "plt.xlabel(\"Accuracy and Val Accuracy\")\n",
        "plt.ylabel(\"Iteration\")\n",
        "plt.legend();"
      ],
      "execution_count": 30,
      "outputs": [
        {
          "output_type": "display_data",
          "data": {
            "image/png": "[encoded data removed]",
            "text/plain": [
              "<Figure size 432x288 with 1 Axes>"
            ]
          },
          "metadata": {
            "tags": [],
            "needs_background": "light"
          }
        }
      ]
    },
    {
      "cell_type": "markdown",
      "metadata": {
        "id": "1Au5NBocY-4y"
      },
      "source": [
        "There is a steady increase in accuracy per iteration."
      ]
    },
    {
      "cell_type": "code",
      "metadata": {
        "colab": {
          "base_uri": "https://localhost:8080/"
        },
        "id": "RBxTsJKlY4fb",
        "outputId": "a3f8f888-7795-4fa8-879c-807fdaf61e27"
      },
      "source": [
        "# Predictions\n",
        "\n",
        "y_pred = model.predict(X_test)\n",
        "print(y_pred)"
      ],
      "execution_count": 31,
      "outputs": [
        {
          "output_type": "stream",
          "text": [
            "[[4.74906564e-02]\n",
            " [9.49457824e-01]\n",
            " [9.90689039e-01]\n",
            " [1.20561822e-06]\n",
            " [9.53818321e-01]\n",
            " [9.35988865e-05]\n",
            " [3.46064568e-04]\n",
            " [1.22109354e-02]\n",
            " [9.81145978e-01]\n",
            " [2.16215849e-04]\n",
            " [9.04428005e-01]\n",
            " [9.02999878e-01]\n",
            " [9.80803609e-01]\n",
            " [9.44075704e-01]\n",
            " [9.59137917e-01]\n",
            " [9.68125701e-01]\n",
            " [1.51317388e-01]\n",
            " [9.93358314e-01]\n",
            " [4.26884890e-02]\n",
            " [2.07295898e-06]\n",
            " [8.42762649e-01]\n",
            " [7.14037597e-01]\n",
            " [9.91483927e-01]\n",
            " [9.87972975e-01]\n",
            " [6.58847094e-02]\n",
            " [9.70734239e-01]\n",
            " [9.08139467e-01]\n",
            " [1.17868185e-03]\n",
            " [9.73368526e-01]\n",
            " [8.94106090e-01]\n",
            " [8.58157754e-01]\n",
            " [7.92089701e-01]\n",
            " [9.87546980e-01]\n",
            " [1.15291754e-04]\n",
            " [4.65354323e-03]\n",
            " [1.75112882e-06]\n",
            " [8.58770311e-02]\n",
            " [7.69574523e-01]\n",
            " [9.60741282e-01]\n",
            " [9.84539390e-01]\n",
            " [9.81157184e-01]\n",
            " [8.34085345e-02]\n",
            " [9.90877092e-01]\n",
            " [9.64384675e-01]\n",
            " [7.15297461e-03]\n",
            " [6.22777370e-05]\n",
            " [9.60564554e-01]\n",
            " [9.91486669e-01]\n",
            " [9.22107100e-01]\n",
            " [3.30967367e-01]\n",
            " [7.61046052e-01]\n",
            " [9.95911658e-01]\n",
            " [1.52955651e-02]\n",
            " [8.12139571e-01]\n",
            " [5.59879541e-01]\n",
            " [9.92450714e-01]\n",
            " [9.63375986e-01]\n",
            " [2.43190825e-02]\n",
            " [3.01932196e-05]\n",
            " [9.38631535e-01]\n",
            " [9.76914287e-01]\n",
            " [9.76648927e-01]\n",
            " [9.41878557e-01]\n",
            " [9.77499604e-01]\n",
            " [6.76078141e-01]\n",
            " [9.36547160e-01]\n",
            " [2.63360143e-03]\n",
            " [9.30850983e-01]\n",
            " [2.25749612e-03]\n",
            " [9.82732177e-01]\n",
            " [2.74949253e-01]\n",
            " [9.65840697e-01]\n",
            " [8.50028336e-01]\n",
            " [9.68843937e-01]\n",
            " [1.25583501e-05]\n",
            " [9.68113244e-01]\n",
            " [9.96267736e-01]\n",
            " [3.22550535e-04]\n",
            " [1.26364529e-02]\n",
            " [1.36667490e-03]\n",
            " [7.90961385e-01]\n",
            " [9.72760618e-01]\n",
            " [1.19730860e-01]\n",
            " [9.80891109e-01]\n",
            " [9.50417161e-01]\n",
            " [4.20666575e-01]\n",
            " [9.98175442e-01]\n",
            " [9.22333300e-01]\n",
            " [4.65930700e-01]\n",
            " [8.96116376e-01]\n",
            " [9.96353388e-01]\n",
            " [1.97278410e-01]\n",
            " [4.78456527e-01]\n",
            " [9.95189190e-01]\n",
            " [9.88232017e-01]\n",
            " [6.84666634e-03]\n",
            " [7.98072219e-01]\n",
            " [9.73470330e-01]\n",
            " [1.03560239e-01]\n",
            " [6.27972960e-01]\n",
            " [7.64898539e-01]\n",
            " [2.26727128e-03]\n",
            " [1.35410041e-01]\n",
            " [9.53999996e-01]\n",
            " [9.75456357e-01]\n",
            " [9.98519063e-01]\n",
            " [7.28228390e-01]\n",
            " [9.60902333e-01]\n",
            " [4.17432189e-03]\n",
            " [9.67121601e-01]\n",
            " [8.00765157e-02]\n",
            " [9.93003786e-01]\n",
            " [1.48491263e-02]\n",
            " [1.72849000e-02]\n",
            " [8.40744376e-03]\n",
            " [9.77557302e-01]\n",
            " [9.95959759e-01]\n",
            " [2.01932698e-01]\n",
            " [7.84494877e-02]\n",
            " [8.17827702e-01]\n",
            " [9.98176932e-01]\n",
            " [2.58977115e-02]\n",
            " [3.27318907e-04]\n",
            " [4.11615758e-07]\n",
            " [7.53581524e-04]\n",
            " [6.35328352e-01]\n",
            " [6.62563180e-05]\n",
            " [3.32467556e-02]\n",
            " [9.85091805e-01]\n",
            " [9.81921836e-12]\n",
            " [9.83437181e-01]\n",
            " [9.12782133e-01]\n",
            " [9.58392680e-01]\n",
            " [9.56130683e-01]\n",
            " [9.41495359e-01]\n",
            " [8.88507307e-01]\n",
            " [9.89603639e-01]\n",
            " [9.88043010e-01]\n",
            " [9.66006398e-01]\n",
            " [8.37480545e-01]\n",
            " [9.52093899e-01]\n",
            " [1.47733092e-02]\n",
            " [9.94858265e-01]\n",
            " [9.94976640e-01]\n",
            " [9.67496753e-01]\n",
            " [9.96374607e-01]\n",
            " [2.67675519e-03]\n",
            " [9.73331988e-01]\n",
            " [9.36233878e-01]\n",
            " [9.18898821e-01]\n",
            " [8.38918209e-01]\n",
            " [2.76175737e-02]\n",
            " [8.78747940e-01]\n",
            " [9.94223177e-01]\n",
            " [9.97893810e-01]\n",
            " [9.99049664e-01]\n",
            " [3.14957251e-05]\n",
            " [2.39109695e-02]\n",
            " [1.58810914e-02]\n",
            " [6.46817684e-03]\n",
            " [9.67544317e-01]\n",
            " [9.96788621e-01]\n",
            " [9.93581891e-01]\n",
            " [1.64034843e-01]\n",
            " [9.44331527e-01]\n",
            " [2.47911811e-02]\n",
            " [9.88785684e-01]\n",
            " [2.46298999e-01]\n",
            " [9.60807204e-01]\n",
            " [9.94244874e-01]\n",
            " [9.89696503e-01]\n",
            " [9.21940863e-01]\n",
            " [2.54454464e-01]\n",
            " [9.72634256e-01]\n",
            " [2.55017757e-01]\n",
            " [9.95882273e-01]\n",
            " [6.46742001e-06]\n",
            " [9.85762715e-01]\n",
            " [9.95582521e-01]\n",
            " [9.85889316e-01]\n",
            " [9.92806077e-01]\n",
            " [7.66832232e-01]\n",
            " [7.79100955e-01]\n",
            " [9.04938459e-01]\n",
            " [9.97663260e-01]\n",
            " [9.58299279e-01]\n",
            " [9.84632492e-01]\n",
            " [9.15465236e-01]]\n"
          ],
          "name": "stdout"
        }
      ]
    },
    {
      "cell_type": "code",
      "metadata": {
        "colab": {
          "base_uri": "https://localhost:8080/"
        },
        "id": "0ij2w2dfZMTK",
        "outputId": "ee55019f-4a55-44cc-a083-d2ef9b1d36f3"
      },
      "source": [
        "9.15465236e-01"
      ],
      "execution_count": 33,
      "outputs": [
        {
          "output_type": "execute_result",
          "data": {
            "text/plain": [
              "0.915465236"
            ]
          },
          "metadata": {
            "tags": []
          },
          "execution_count": 33
        }
      ]
    },
    {
      "cell_type": "code",
      "metadata": {
        "colab": {
          "base_uri": "https://localhost:8080/"
        },
        "id": "AiCnGd-tZgfB",
        "outputId": "71f6af59-8851-4fd7-a9bf-a4d93b51c2d1"
      },
      "source": [
        "import numpy as np\n",
        "y_pred = np.round(y_pred).flatten()\n",
        "y_pred"
      ],
      "execution_count": 37,
      "outputs": [
        {
          "output_type": "execute_result",
          "data": {
            "text/plain": [
              "array([0., 1., 1., 0., 1., 0., 0., 0., 1., 0., 1., 1., 1., 1., 1., 1., 0.,\n",
              "       1., 0., 0., 1., 1., 1., 1., 0., 1., 1., 0., 1., 1., 1., 1., 1., 0.,\n",
              "       0., 0., 0., 1., 1., 1., 1., 0., 1., 1., 0., 0., 1., 1., 1., 0., 1.,\n",
              "       1., 0., 1., 1., 1., 1., 0., 0., 1., 1., 1., 1., 1., 1., 1., 0., 1.,\n",
              "       0., 1., 0., 1., 1., 1., 0., 1., 1., 0., 0., 0., 1., 1., 0., 1., 1.,\n",
              "       0., 1., 1., 0., 1., 1., 0., 0., 1., 1., 0., 1., 1., 0., 1., 1., 0.,\n",
              "       0., 1., 1., 1., 1., 1., 0., 1., 0., 1., 0., 0., 0., 1., 1., 0., 0.,\n",
              "       1., 1., 0., 0., 0., 0., 1., 0., 0., 1., 0., 1., 1., 1., 1., 1., 1.,\n",
              "       1., 1., 1., 1., 1., 0., 1., 1., 1., 1., 0., 1., 1., 1., 1., 0., 1.,\n",
              "       1., 1., 1., 0., 0., 0., 0., 1., 1., 1., 0., 1., 0., 1., 0., 1., 1.,\n",
              "       1., 1., 0., 1., 0., 1., 0., 1., 1., 1., 1., 1., 1., 1., 1., 1., 1.,\n",
              "       1.], dtype=float32)"
            ]
          },
          "metadata": {
            "tags": []
          },
          "execution_count": 37
        }
      ]
    },
    {
      "cell_type": "code",
      "metadata": {
        "colab": {
          "base_uri": "https://localhost:8080/"
        },
        "id": "_P6MHKGvZwN8",
        "outputId": "d79c90e4-9de2-4206-bf1e-5b18df32ab29"
      },
      "source": [
        "# Calculate Accuracy Manually\n",
        "\n",
        "np.mean(y_pred == y_test)"
      ],
      "execution_count": 38,
      "outputs": [
        {
          "output_type": "execute_result",
          "data": {
            "text/plain": [
              "0.9787234042553191"
            ]
          },
          "metadata": {
            "tags": []
          },
          "execution_count": 38
        }
      ]
    },
    {
      "cell_type": "code",
      "metadata": {
        "colab": {
          "base_uri": "https://localhost:8080/"
        },
        "id": "2XajmwUyaCB1",
        "outputId": "b84623d8-086c-4502-c6ab-ca5e5c82be3a"
      },
      "source": [
        "# Calculate Accuracy by model\n",
        "\n",
        "model.evaluate(X_test, y_test)"
      ],
      "execution_count": 39,
      "outputs": [
        {
          "output_type": "stream",
          "text": [
            "6/6 [==============================] - 0s 2ms/step - loss: 0.0876 - accuracy: 0.9787\n"
          ],
          "name": "stdout"
        },
        {
          "output_type": "execute_result",
          "data": {
            "text/plain": [
              "[0.08757907897233963, 0.978723406791687]"
            ]
          },
          "metadata": {
            "tags": []
          },
          "execution_count": 39
        }
      ]
    },
    {
      "cell_type": "markdown",
      "metadata": {
        "id": "JZUDjbQaahN9"
      },
      "source": [
        "# **Happy Learning**"
      ]
    }
  ]
}
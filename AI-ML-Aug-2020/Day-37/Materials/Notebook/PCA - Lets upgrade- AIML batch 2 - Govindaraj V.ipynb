{
 "cells": [
  {
   "cell_type": "markdown",
   "metadata": {},
   "source": [
    "# PCA- Principal Component Analysis\n",
    "\n",
    "- its for unsupervised learning technique\n",
    "\n",
    "- but it is  not restricted to supervised learning\n",
    "\n"
   ]
  },
  {
   "cell_type": "markdown",
   "metadata": {},
   "source": [
    "# Math Steps"
   ]
  },
  {
   "cell_type": "markdown",
   "metadata": {},
   "source": [
    "\n",
    "1. Take the whole dataset consisting of d+1 dimensions and ignore the labels such that our new dataset becomes d dimensional.\n",
    "\n",
    "2.Compute the mean for every dimension of the whole dataset.\n",
    "\n",
    "\n",
    "3.Compute the covariance matrix of the whole dataset.\n",
    "\n",
    "\n",
    "4. Compute eigenvectors and the corresponding eigenvalues.\n",
    "\n",
    "5.Sort the eigenvectors by decreasing eigenvalues and choose k eigenvectors with the largest eigenvalues to form a d × k dimensional matrix W.\n",
    "\n",
    "6.Use this d × k eigenvector matrix to transform the samples onto the new subspace."
   ]
  },
  {
   "cell_type": "code",
   "execution_count": 1,
   "metadata": {},
   "outputs": [],
   "source": [
    "import numpy as np\n",
    "import pandas as pd"
   ]
  },
  {
   "cell_type": "code",
   "execution_count": 2,
   "metadata": {},
   "outputs": [],
   "source": [
    "import matplotlib.pyplot as plt\n",
    "import seaborn as sns"
   ]
  },
  {
   "cell_type": "code",
   "execution_count": 3,
   "metadata": {},
   "outputs": [],
   "source": [
    "data=pd.read_csv('winequality-red.csv')"
   ]
  },
  {
   "cell_type": "code",
   "execution_count": 4,
   "metadata": {},
   "outputs": [
    {
     "data": {
      "text/html": [
       "<div>\n",
       "<style scoped>\n",
       "    .dataframe tbody tr th:only-of-type {\n",
       "        vertical-align: middle;\n",
       "    }\n",
       "\n",
       "    .dataframe tbody tr th {\n",
       "        vertical-align: top;\n",
       "    }\n",
       "\n",
       "    .dataframe thead th {\n",
       "        text-align: right;\n",
       "    }\n",
       "</style>\n",
       "<table border=\"1\" class=\"dataframe\">\n",
       "  <thead>\n",
       "    <tr style=\"text-align: right;\">\n",
       "      <th></th>\n",
       "      <th>fixed acidity</th>\n",
       "      <th>volatile acidity</th>\n",
       "      <th>citric acid</th>\n",
       "      <th>residual sugar</th>\n",
       "      <th>chlorides</th>\n",
       "      <th>free sulfur dioxide</th>\n",
       "      <th>total sulfur dioxide</th>\n",
       "      <th>density</th>\n",
       "      <th>pH</th>\n",
       "      <th>sulphates</th>\n",
       "      <th>alcohol</th>\n",
       "      <th>quality</th>\n",
       "    </tr>\n",
       "  </thead>\n",
       "  <tbody>\n",
       "    <tr>\n",
       "      <th>0</th>\n",
       "      <td>7.4</td>\n",
       "      <td>0.70</td>\n",
       "      <td>0.00</td>\n",
       "      <td>1.9</td>\n",
       "      <td>0.076</td>\n",
       "      <td>11.0</td>\n",
       "      <td>34.0</td>\n",
       "      <td>0.9978</td>\n",
       "      <td>3.51</td>\n",
       "      <td>0.56</td>\n",
       "      <td>9.4</td>\n",
       "      <td>5</td>\n",
       "    </tr>\n",
       "    <tr>\n",
       "      <th>1</th>\n",
       "      <td>7.8</td>\n",
       "      <td>0.88</td>\n",
       "      <td>0.00</td>\n",
       "      <td>2.6</td>\n",
       "      <td>0.098</td>\n",
       "      <td>25.0</td>\n",
       "      <td>67.0</td>\n",
       "      <td>0.9968</td>\n",
       "      <td>3.20</td>\n",
       "      <td>0.68</td>\n",
       "      <td>9.8</td>\n",
       "      <td>5</td>\n",
       "    </tr>\n",
       "    <tr>\n",
       "      <th>2</th>\n",
       "      <td>7.8</td>\n",
       "      <td>0.76</td>\n",
       "      <td>0.04</td>\n",
       "      <td>2.3</td>\n",
       "      <td>0.092</td>\n",
       "      <td>15.0</td>\n",
       "      <td>54.0</td>\n",
       "      <td>0.9970</td>\n",
       "      <td>3.26</td>\n",
       "      <td>0.65</td>\n",
       "      <td>9.8</td>\n",
       "      <td>5</td>\n",
       "    </tr>\n",
       "    <tr>\n",
       "      <th>3</th>\n",
       "      <td>11.2</td>\n",
       "      <td>0.28</td>\n",
       "      <td>0.56</td>\n",
       "      <td>1.9</td>\n",
       "      <td>0.075</td>\n",
       "      <td>17.0</td>\n",
       "      <td>60.0</td>\n",
       "      <td>0.9980</td>\n",
       "      <td>3.16</td>\n",
       "      <td>0.58</td>\n",
       "      <td>9.8</td>\n",
       "      <td>6</td>\n",
       "    </tr>\n",
       "    <tr>\n",
       "      <th>4</th>\n",
       "      <td>7.4</td>\n",
       "      <td>0.70</td>\n",
       "      <td>0.00</td>\n",
       "      <td>1.9</td>\n",
       "      <td>0.076</td>\n",
       "      <td>11.0</td>\n",
       "      <td>34.0</td>\n",
       "      <td>0.9978</td>\n",
       "      <td>3.51</td>\n",
       "      <td>0.56</td>\n",
       "      <td>9.4</td>\n",
       "      <td>5</td>\n",
       "    </tr>\n",
       "  </tbody>\n",
       "</table>\n",
       "</div>"
      ],
      "text/plain": [
       "   fixed acidity  volatile acidity  citric acid  residual sugar  chlorides  \\\n",
       "0            7.4              0.70         0.00             1.9      0.076   \n",
       "1            7.8              0.88         0.00             2.6      0.098   \n",
       "2            7.8              0.76         0.04             2.3      0.092   \n",
       "3           11.2              0.28         0.56             1.9      0.075   \n",
       "4            7.4              0.70         0.00             1.9      0.076   \n",
       "\n",
       "   free sulfur dioxide  total sulfur dioxide  density    pH  sulphates  \\\n",
       "0                 11.0                  34.0   0.9978  3.51       0.56   \n",
       "1                 25.0                  67.0   0.9968  3.20       0.68   \n",
       "2                 15.0                  54.0   0.9970  3.26       0.65   \n",
       "3                 17.0                  60.0   0.9980  3.16       0.58   \n",
       "4                 11.0                  34.0   0.9978  3.51       0.56   \n",
       "\n",
       "   alcohol  quality  \n",
       "0      9.4        5  \n",
       "1      9.8        5  \n",
       "2      9.8        5  \n",
       "3      9.8        6  \n",
       "4      9.4        5  "
      ]
     },
     "execution_count": 4,
     "metadata": {},
     "output_type": "execute_result"
    }
   ],
   "source": [
    "data.head()"
   ]
  },
  {
   "cell_type": "code",
   "execution_count": 8,
   "metadata": {},
   "outputs": [],
   "source": [
    "data=data.drop('quality',axis=1)"
   ]
  },
  {
   "cell_type": "code",
   "execution_count": 9,
   "metadata": {},
   "outputs": [
    {
     "data": {
      "text/html": [
       "<div>\n",
       "<style scoped>\n",
       "    .dataframe tbody tr th:only-of-type {\n",
       "        vertical-align: middle;\n",
       "    }\n",
       "\n",
       "    .dataframe tbody tr th {\n",
       "        vertical-align: top;\n",
       "    }\n",
       "\n",
       "    .dataframe thead th {\n",
       "        text-align: right;\n",
       "    }\n",
       "</style>\n",
       "<table border=\"1\" class=\"dataframe\">\n",
       "  <thead>\n",
       "    <tr style=\"text-align: right;\">\n",
       "      <th></th>\n",
       "      <th>fixed acidity</th>\n",
       "      <th>volatile acidity</th>\n",
       "      <th>citric acid</th>\n",
       "      <th>residual sugar</th>\n",
       "      <th>chlorides</th>\n",
       "      <th>free sulfur dioxide</th>\n",
       "      <th>total sulfur dioxide</th>\n",
       "      <th>density</th>\n",
       "      <th>pH</th>\n",
       "      <th>sulphates</th>\n",
       "      <th>alcohol</th>\n",
       "    </tr>\n",
       "  </thead>\n",
       "  <tbody>\n",
       "    <tr>\n",
       "      <th>0</th>\n",
       "      <td>7.4</td>\n",
       "      <td>0.70</td>\n",
       "      <td>0.00</td>\n",
       "      <td>1.9</td>\n",
       "      <td>0.076</td>\n",
       "      <td>11.0</td>\n",
       "      <td>34.0</td>\n",
       "      <td>0.9978</td>\n",
       "      <td>3.51</td>\n",
       "      <td>0.56</td>\n",
       "      <td>9.4</td>\n",
       "    </tr>\n",
       "    <tr>\n",
       "      <th>1</th>\n",
       "      <td>7.8</td>\n",
       "      <td>0.88</td>\n",
       "      <td>0.00</td>\n",
       "      <td>2.6</td>\n",
       "      <td>0.098</td>\n",
       "      <td>25.0</td>\n",
       "      <td>67.0</td>\n",
       "      <td>0.9968</td>\n",
       "      <td>3.20</td>\n",
       "      <td>0.68</td>\n",
       "      <td>9.8</td>\n",
       "    </tr>\n",
       "    <tr>\n",
       "      <th>2</th>\n",
       "      <td>7.8</td>\n",
       "      <td>0.76</td>\n",
       "      <td>0.04</td>\n",
       "      <td>2.3</td>\n",
       "      <td>0.092</td>\n",
       "      <td>15.0</td>\n",
       "      <td>54.0</td>\n",
       "      <td>0.9970</td>\n",
       "      <td>3.26</td>\n",
       "      <td>0.65</td>\n",
       "      <td>9.8</td>\n",
       "    </tr>\n",
       "    <tr>\n",
       "      <th>9</th>\n",
       "      <td>7.5</td>\n",
       "      <td>0.50</td>\n",
       "      <td>0.36</td>\n",
       "      <td>6.1</td>\n",
       "      <td>0.071</td>\n",
       "      <td>17.0</td>\n",
       "      <td>102.0</td>\n",
       "      <td>0.9978</td>\n",
       "      <td>3.35</td>\n",
       "      <td>0.80</td>\n",
       "      <td>10.5</td>\n",
       "    </tr>\n",
       "    <tr>\n",
       "      <th>10</th>\n",
       "      <td>6.7</td>\n",
       "      <td>0.58</td>\n",
       "      <td>0.08</td>\n",
       "      <td>1.8</td>\n",
       "      <td>0.097</td>\n",
       "      <td>15.0</td>\n",
       "      <td>65.0</td>\n",
       "      <td>0.9959</td>\n",
       "      <td>3.28</td>\n",
       "      <td>0.54</td>\n",
       "      <td>9.2</td>\n",
       "    </tr>\n",
       "  </tbody>\n",
       "</table>\n",
       "</div>"
      ],
      "text/plain": [
       "    fixed acidity  volatile acidity  citric acid  residual sugar  chlorides  \\\n",
       "0             7.4              0.70         0.00             1.9      0.076   \n",
       "1             7.8              0.88         0.00             2.6      0.098   \n",
       "2             7.8              0.76         0.04             2.3      0.092   \n",
       "9             7.5              0.50         0.36             6.1      0.071   \n",
       "10            6.7              0.58         0.08             1.8      0.097   \n",
       "\n",
       "    free sulfur dioxide  total sulfur dioxide  density    pH  sulphates  \\\n",
       "0                  11.0                  34.0   0.9978  3.51       0.56   \n",
       "1                  25.0                  67.0   0.9968  3.20       0.68   \n",
       "2                  15.0                  54.0   0.9970  3.26       0.65   \n",
       "9                  17.0                 102.0   0.9978  3.35       0.80   \n",
       "10                 15.0                  65.0   0.9959  3.28       0.54   \n",
       "\n",
       "    alcohol  \n",
       "0       9.4  \n",
       "1       9.8  \n",
       "2       9.8  \n",
       "9      10.5  \n",
       "10      9.2  "
      ]
     },
     "execution_count": 9,
     "metadata": {},
     "output_type": "execute_result"
    }
   ],
   "source": [
    "data.head()"
   ]
  },
  {
   "cell_type": "code",
   "execution_count": 10,
   "metadata": {},
   "outputs": [
    {
     "data": {
      "text/plain": [
       "(1593, 11)"
      ]
     },
     "execution_count": 10,
     "metadata": {},
     "output_type": "execute_result"
    }
   ],
   "source": [
    "data.shape"
   ]
  },
  {
   "cell_type": "markdown",
   "metadata": {},
   "source": [
    "# Apply scalling to normalize the data"
   ]
  },
  {
   "cell_type": "code",
   "execution_count": 11,
   "metadata": {},
   "outputs": [],
   "source": [
    "from sklearn.preprocessing import StandardScaler\n",
    "scaler=StandardScaler()\n",
    "sc_data=scaler.fit_transform(data)"
   ]
  },
  {
   "cell_type": "code",
   "execution_count": 12,
   "metadata": {},
   "outputs": [
    {
     "data": {
      "text/plain": [
       "array([[-0.52832387,  0.96236651, -1.39678338, ...,  1.28957439,\n",
       "        -0.58157329, -0.96261979],\n",
       "       [-0.29867112,  1.9673339 , -1.39678338, ..., -0.71815133,\n",
       "         0.12608775, -0.58738269],\n",
       "       [-0.29867112,  1.29735564, -1.19106736, ..., -0.32955926,\n",
       "        -0.05082751, -0.58738269],\n",
       "       ...,\n",
       "       [-1.15986893, -0.09843241, -0.72820631, ...,  0.70668628,\n",
       "         0.53889003,  0.53832862],\n",
       "       [-1.38952168,  0.65529314, -0.77963531, ...,  1.67816647,\n",
       "         0.30300301, -0.21214558],\n",
       "       [-1.3321085 , -1.21506285,  1.02037988, ...,  0.51239024,\n",
       "         0.00814425,  0.53832862]])"
      ]
     },
     "execution_count": 12,
     "metadata": {},
     "output_type": "execute_result"
    }
   ],
   "source": [
    "sc_data"
   ]
  },
  {
   "cell_type": "code",
   "execution_count": 14,
   "metadata": {},
   "outputs": [
    {
     "data": {
      "text/html": [
       "<div>\n",
       "<style scoped>\n",
       "    .dataframe tbody tr th:only-of-type {\n",
       "        vertical-align: middle;\n",
       "    }\n",
       "\n",
       "    .dataframe tbody tr th {\n",
       "        vertical-align: top;\n",
       "    }\n",
       "\n",
       "    .dataframe thead th {\n",
       "        text-align: right;\n",
       "    }\n",
       "</style>\n",
       "<table border=\"1\" class=\"dataframe\">\n",
       "  <thead>\n",
       "    <tr style=\"text-align: right;\">\n",
       "      <th></th>\n",
       "      <th>fixed acidity</th>\n",
       "      <th>volatile acidity</th>\n",
       "      <th>citric acid</th>\n",
       "      <th>residual sugar</th>\n",
       "      <th>chlorides</th>\n",
       "      <th>free sulfur dioxide</th>\n",
       "      <th>total sulfur dioxide</th>\n",
       "      <th>density</th>\n",
       "      <th>pH</th>\n",
       "      <th>sulphates</th>\n",
       "      <th>alcohol</th>\n",
       "    </tr>\n",
       "  </thead>\n",
       "  <tbody>\n",
       "    <tr>\n",
       "      <th>0</th>\n",
       "      <td>-0.528324</td>\n",
       "      <td>0.962367</td>\n",
       "      <td>-1.396783</td>\n",
       "      <td>-0.454827</td>\n",
       "      <td>-0.244523</td>\n",
       "      <td>-0.466340</td>\n",
       "      <td>-0.379532</td>\n",
       "      <td>0.557949</td>\n",
       "      <td>1.289574</td>\n",
       "      <td>-0.581573</td>\n",
       "      <td>-0.962620</td>\n",
       "    </tr>\n",
       "    <tr>\n",
       "      <th>1</th>\n",
       "      <td>-0.298671</td>\n",
       "      <td>1.967334</td>\n",
       "      <td>-1.396783</td>\n",
       "      <td>0.041214</td>\n",
       "      <td>0.222279</td>\n",
       "      <td>0.870290</td>\n",
       "      <td>0.622659</td>\n",
       "      <td>0.028535</td>\n",
       "      <td>-0.718151</td>\n",
       "      <td>0.126088</td>\n",
       "      <td>-0.587383</td>\n",
       "    </tr>\n",
       "    <tr>\n",
       "      <th>2</th>\n",
       "      <td>-0.298671</td>\n",
       "      <td>1.297356</td>\n",
       "      <td>-1.191067</td>\n",
       "      <td>-0.171375</td>\n",
       "      <td>0.094970</td>\n",
       "      <td>-0.084446</td>\n",
       "      <td>0.227856</td>\n",
       "      <td>0.134418</td>\n",
       "      <td>-0.329559</td>\n",
       "      <td>-0.050828</td>\n",
       "      <td>-0.587383</td>\n",
       "    </tr>\n",
       "    <tr>\n",
       "      <th>3</th>\n",
       "      <td>-0.470911</td>\n",
       "      <td>-0.154264</td>\n",
       "      <td>0.454661</td>\n",
       "      <td>2.521419</td>\n",
       "      <td>-0.350615</td>\n",
       "      <td>0.106501</td>\n",
       "      <td>1.685588</td>\n",
       "      <td>0.557949</td>\n",
       "      <td>0.253329</td>\n",
       "      <td>0.833749</td>\n",
       "      <td>0.069282</td>\n",
       "    </tr>\n",
       "    <tr>\n",
       "      <th>4</th>\n",
       "      <td>-0.930216</td>\n",
       "      <td>0.292388</td>\n",
       "      <td>-0.985351</td>\n",
       "      <td>-0.525690</td>\n",
       "      <td>0.201061</td>\n",
       "      <td>-0.084446</td>\n",
       "      <td>0.561920</td>\n",
       "      <td>-0.447939</td>\n",
       "      <td>-0.200029</td>\n",
       "      <td>-0.699517</td>\n",
       "      <td>-1.150238</td>\n",
       "    </tr>\n",
       "  </tbody>\n",
       "</table>\n",
       "</div>"
      ],
      "text/plain": [
       "   fixed acidity  volatile acidity  citric acid  residual sugar  chlorides  \\\n",
       "0      -0.528324          0.962367    -1.396783       -0.454827  -0.244523   \n",
       "1      -0.298671          1.967334    -1.396783        0.041214   0.222279   \n",
       "2      -0.298671          1.297356    -1.191067       -0.171375   0.094970   \n",
       "3      -0.470911         -0.154264     0.454661        2.521419  -0.350615   \n",
       "4      -0.930216          0.292388    -0.985351       -0.525690   0.201061   \n",
       "\n",
       "   free sulfur dioxide  total sulfur dioxide   density        pH  sulphates  \\\n",
       "0            -0.466340             -0.379532  0.557949  1.289574  -0.581573   \n",
       "1             0.870290              0.622659  0.028535 -0.718151   0.126088   \n",
       "2            -0.084446              0.227856  0.134418 -0.329559  -0.050828   \n",
       "3             0.106501              1.685588  0.557949  0.253329   0.833749   \n",
       "4            -0.084446              0.561920 -0.447939 -0.200029  -0.699517   \n",
       "\n",
       "    alcohol  \n",
       "0 -0.962620  \n",
       "1 -0.587383  \n",
       "2 -0.587383  \n",
       "3  0.069282  \n",
       "4 -1.150238  "
      ]
     },
     "execution_count": 14,
     "metadata": {},
     "output_type": "execute_result"
    }
   ],
   "source": [
    "df=pd.DataFrame(data=sc_data,columns=data.columns)\n",
    "df.head()"
   ]
  },
  {
   "cell_type": "code",
   "execution_count": 15,
   "metadata": {},
   "outputs": [
    {
     "data": {
      "text/html": [
       "<div>\n",
       "<style scoped>\n",
       "    .dataframe tbody tr th:only-of-type {\n",
       "        vertical-align: middle;\n",
       "    }\n",
       "\n",
       "    .dataframe tbody tr th {\n",
       "        vertical-align: top;\n",
       "    }\n",
       "\n",
       "    .dataframe thead th {\n",
       "        text-align: right;\n",
       "    }\n",
       "</style>\n",
       "<table border=\"1\" class=\"dataframe\">\n",
       "  <thead>\n",
       "    <tr style=\"text-align: right;\">\n",
       "      <th></th>\n",
       "      <th>count</th>\n",
       "      <th>mean</th>\n",
       "      <th>std</th>\n",
       "      <th>min</th>\n",
       "      <th>25%</th>\n",
       "      <th>50%</th>\n",
       "      <th>75%</th>\n",
       "      <th>max</th>\n",
       "    </tr>\n",
       "  </thead>\n",
       "  <tbody>\n",
       "    <tr>\n",
       "      <th>fixed acidity</th>\n",
       "      <td>1593.0</td>\n",
       "      <td>3.656139e-16</td>\n",
       "      <td>1.000314</td>\n",
       "      <td>-2.135893</td>\n",
       "      <td>-0.700563</td>\n",
       "      <td>-0.241258</td>\n",
       "      <td>0.505114</td>\n",
       "      <td>4.351797</td>\n",
       "    </tr>\n",
       "    <tr>\n",
       "      <th>volatile acidity</th>\n",
       "      <td>1593.0</td>\n",
       "      <td>-4.934325e-17</td>\n",
       "      <td>1.000314</td>\n",
       "      <td>-2.275862</td>\n",
       "      <td>-0.768411</td>\n",
       "      <td>-0.042601</td>\n",
       "      <td>0.627377</td>\n",
       "      <td>5.875540</td>\n",
       "    </tr>\n",
       "    <tr>\n",
       "      <th>citric acid</th>\n",
       "      <td>1593.0</td>\n",
       "      <td>-3.208705e-16</td>\n",
       "      <td>1.000314</td>\n",
       "      <td>-1.396783</td>\n",
       "      <td>-0.882493</td>\n",
       "      <td>-0.059629</td>\n",
       "      <td>0.763235</td>\n",
       "      <td>3.746117</td>\n",
       "    </tr>\n",
       "    <tr>\n",
       "      <th>residual sugar</th>\n",
       "      <td>1593.0</td>\n",
       "      <td>7.317854e-17</td>\n",
       "      <td>1.000314</td>\n",
       "      <td>-1.163456</td>\n",
       "      <td>-0.454827</td>\n",
       "      <td>-0.242238</td>\n",
       "      <td>0.041214</td>\n",
       "      <td>9.182540</td>\n",
       "    </tr>\n",
       "    <tr>\n",
       "      <th>chlorides</th>\n",
       "      <td>1593.0</td>\n",
       "      <td>2.707955e-16</td>\n",
       "      <td>1.000314</td>\n",
       "      <td>-1.602495</td>\n",
       "      <td>-0.371833</td>\n",
       "      <td>-0.180868</td>\n",
       "      <td>0.052533</td>\n",
       "      <td>11.107274</td>\n",
       "    </tr>\n",
       "    <tr>\n",
       "      <th>free sulfur dioxide</th>\n",
       "      <td>1593.0</td>\n",
       "      <td>-6.286385e-17</td>\n",
       "      <td>1.000314</td>\n",
       "      <td>-1.421077</td>\n",
       "      <td>-0.848235</td>\n",
       "      <td>-0.179920</td>\n",
       "      <td>0.488396</td>\n",
       "      <td>5.357551</td>\n",
       "    </tr>\n",
       "    <tr>\n",
       "      <th>total sulfur dioxide</th>\n",
       "      <td>1593.0</td>\n",
       "      <td>-6.091242e-17</td>\n",
       "      <td>1.000314</td>\n",
       "      <td>-1.229875</td>\n",
       "      <td>-0.743965</td>\n",
       "      <td>-0.258054</td>\n",
       "      <td>0.470812</td>\n",
       "      <td>7.364668</td>\n",
       "    </tr>\n",
       "    <tr>\n",
       "      <th>density</th>\n",
       "      <td>1593.0</td>\n",
       "      <td>-1.712197e-14</td>\n",
       "      <td>1.000314</td>\n",
       "      <td>-3.534427</td>\n",
       "      <td>-0.606763</td>\n",
       "      <td>0.002064</td>\n",
       "      <td>0.579126</td>\n",
       "      <td>3.676203</td>\n",
       "    </tr>\n",
       "    <tr>\n",
       "      <th>pH</th>\n",
       "      <td>1593.0</td>\n",
       "      <td>8.604403e-16</td>\n",
       "      <td>1.000314</td>\n",
       "      <td>-3.697357</td>\n",
       "      <td>-0.653386</td>\n",
       "      <td>-0.005733</td>\n",
       "      <td>0.577156</td>\n",
       "      <td>4.527842</td>\n",
       "    </tr>\n",
       "    <tr>\n",
       "      <th>sulphates</th>\n",
       "      <td>1593.0</td>\n",
       "      <td>-5.786996e-16</td>\n",
       "      <td>1.000314</td>\n",
       "      <td>-1.937924</td>\n",
       "      <td>-0.640545</td>\n",
       "      <td>-0.227743</td>\n",
       "      <td>0.420947</td>\n",
       "      <td>7.910359</td>\n",
       "    </tr>\n",
       "    <tr>\n",
       "      <th>alcohol</th>\n",
       "      <td>1593.0</td>\n",
       "      <td>1.409558e-15</td>\n",
       "      <td>1.000314</td>\n",
       "      <td>-1.900713</td>\n",
       "      <td>-0.868811</td>\n",
       "      <td>-0.212146</td>\n",
       "      <td>0.632138</td>\n",
       "      <td>4.196890</td>\n",
       "    </tr>\n",
       "  </tbody>\n",
       "</table>\n",
       "</div>"
      ],
      "text/plain": [
       "                       count          mean       std       min       25%  \\\n",
       "fixed acidity         1593.0  3.656139e-16  1.000314 -2.135893 -0.700563   \n",
       "volatile acidity      1593.0 -4.934325e-17  1.000314 -2.275862 -0.768411   \n",
       "citric acid           1593.0 -3.208705e-16  1.000314 -1.396783 -0.882493   \n",
       "residual sugar        1593.0  7.317854e-17  1.000314 -1.163456 -0.454827   \n",
       "chlorides             1593.0  2.707955e-16  1.000314 -1.602495 -0.371833   \n",
       "free sulfur dioxide   1593.0 -6.286385e-17  1.000314 -1.421077 -0.848235   \n",
       "total sulfur dioxide  1593.0 -6.091242e-17  1.000314 -1.229875 -0.743965   \n",
       "density               1593.0 -1.712197e-14  1.000314 -3.534427 -0.606763   \n",
       "pH                    1593.0  8.604403e-16  1.000314 -3.697357 -0.653386   \n",
       "sulphates             1593.0 -5.786996e-16  1.000314 -1.937924 -0.640545   \n",
       "alcohol               1593.0  1.409558e-15  1.000314 -1.900713 -0.868811   \n",
       "\n",
       "                           50%       75%        max  \n",
       "fixed acidity        -0.241258  0.505114   4.351797  \n",
       "volatile acidity     -0.042601  0.627377   5.875540  \n",
       "citric acid          -0.059629  0.763235   3.746117  \n",
       "residual sugar       -0.242238  0.041214   9.182540  \n",
       "chlorides            -0.180868  0.052533  11.107274  \n",
       "free sulfur dioxide  -0.179920  0.488396   5.357551  \n",
       "total sulfur dioxide -0.258054  0.470812   7.364668  \n",
       "density               0.002064  0.579126   3.676203  \n",
       "pH                   -0.005733  0.577156   4.527842  \n",
       "sulphates            -0.227743  0.420947   7.910359  \n",
       "alcohol              -0.212146  0.632138   4.196890  "
      ]
     },
     "execution_count": 15,
     "metadata": {},
     "output_type": "execute_result"
    }
   ],
   "source": [
    "df.describe().T"
   ]
  },
  {
   "cell_type": "markdown",
   "metadata": {},
   "source": [
    "# Apply PCA "
   ]
  },
  {
   "cell_type": "code",
   "execution_count": 16,
   "metadata": {},
   "outputs": [],
   "source": [
    "from sklearn.decomposition import PCA\n",
    "pca=PCA(n_components=None)\n",
    "df_pca=pca.fit(df)"
   ]
  },
  {
   "cell_type": "code",
   "execution_count": 17,
   "metadata": {},
   "outputs": [
    {
     "data": {
      "text/plain": [
       "array([3.09961758, 1.92914238, 1.54846089, 1.21504035, 0.95884555,\n",
       "       0.66011495, 0.58518063, 0.42396495, 0.34514225, 0.18183333,\n",
       "       0.05956669])"
      ]
     },
     "execution_count": 17,
     "metadata": {},
     "output_type": "execute_result"
    }
   ],
   "source": [
    "pca.explained_variance_"
   ]
  },
  {
   "cell_type": "code",
   "execution_count": 18,
   "metadata": {},
   "outputs": [
    {
     "data": {
      "text/plain": [
       "array([0.28160653, 0.17526649, 0.1406808 , 0.11038887, 0.08711306,\n",
       "       0.05997278, 0.05316484, 0.03851807, 0.03135687, 0.01651993,\n",
       "       0.00541175])"
      ]
     },
     "execution_count": 18,
     "metadata": {},
     "output_type": "execute_result"
    }
   ],
   "source": [
    "pca.explained_variance_ratio_"
   ]
  },
  {
   "cell_type": "markdown",
   "metadata": {},
   "source": [
    "# Plot the explained variance ratio"
   ]
  },
  {
   "cell_type": "code",
   "execution_count": 19,
   "metadata": {},
   "outputs": [
    {
     "data": {
      "image/png": "[encoded data removed]",
      "text/plain": [
       "<Figure size 720x432 with 1 Axes>"
      ]
     },
     "metadata": {
      "needs_background": "light"
     },
     "output_type": "display_data"
    }
   ],
   "source": [
    "plt.figure(figsize=(10,6))\n",
    "plt.scatter(x=[i+1 for i in range(len(df_pca.explained_variance_ratio_))],\n",
    "             y=df_pca.explained_variance_ratio_,s=200,alpha=0.75,c='orange',edgecolors='k')\n",
    "plt.grid(True)\n",
    "plt.title('Explained Variance Ratio b/w all dimension\\n',fontsize=15)\n",
    "plt.xlabel('Principal Components')\n",
    "plt.xticks([i+1 for i in range(len(df_pca.explained_variance_ratio_))])\n",
    "plt.yticks(fontsize=15)\n",
    "plt.ylabel('Explained variance Ratio')\n",
    "plt.show()"
   ]
  },
  {
   "cell_type": "code",
   "execution_count": 24,
   "metadata": {},
   "outputs": [],
   "source": [
    "from sklearn.decomposition import PCA\n",
    "pca=PCA(n_components=5)\n",
    "reduced_data=pca.fit_transform(df)"
   ]
  },
  {
   "cell_type": "code",
   "execution_count": 29,
   "metadata": {},
   "outputs": [
    {
     "data": {
      "text/plain": [
       "array([3.09961758, 1.92914238, 1.54846089, 1.21504035, 0.95884555])"
      ]
     },
     "execution_count": 29,
     "metadata": {},
     "output_type": "execute_result"
    }
   ],
   "source": [
    "pca.explained_variance_"
   ]
  },
  {
   "cell_type": "code",
   "execution_count": 30,
   "metadata": {},
   "outputs": [
    {
     "data": {
      "text/plain": [
       "array([0.28160653, 0.17526649, 0.1406808 , 0.11038887, 0.08711306])"
      ]
     },
     "execution_count": 30,
     "metadata": {},
     "output_type": "execute_result"
    }
   ],
   "source": [
    "pca.explained_variance_ratio_"
   ]
  },
  {
   "cell_type": "code",
   "execution_count": 28,
   "metadata": {},
   "outputs": [
    {
     "data": {
      "text/plain": [
       "array([[-1.61698612,  0.45331271, -1.78060141,  0.0443785 ,  0.06190178],\n",
       "       [-0.80068536,  1.85707805, -0.92010875,  0.54719387, -0.02089663],\n",
       "       [-0.74875478,  0.88382276, -1.17822833,  0.41072518, -0.0467258 ],\n",
       "       ...,\n",
       "       [-1.4625567 ,  0.31032138,  1.11449433,  0.49067   ,  0.19538093],\n",
       "       [-2.27429819,  0.97794142,  0.61726471,  0.63934025,  0.06926724],\n",
       "       [-0.43402985, -0.53834661,  1.6223064 , -0.39415212,  0.4484562 ]])"
      ]
     },
     "execution_count": 28,
     "metadata": {},
     "output_type": "execute_result"
    }
   ],
   "source": [
    "reduced_data"
   ]
  },
  {
   "cell_type": "markdown",
   "metadata": {},
   "source": [
    "# Kmeans Algorithm"
   ]
  },
  {
   "cell_type": "code",
   "execution_count": 39,
   "metadata": {},
   "outputs": [
    {
     "name": "stdout",
     "output_type": "stream",
     "text": [
      "Silhouette_score\n",
      "\n",
      "0.26100485461961664\n"
     ]
    }
   ],
   "source": [
    "from sklearn.cluster import KMeans\n",
    "km=KMeans(n_clusters=4)\n",
    "km.fit(reduced_data)\n",
    "label=km.labels_\n",
    "from sklearn.metrics import silhouette_score\n",
    "print('Silhouette_score\\n')\n",
    "print(silhouette_score(reduced_data,label))"
   ]
  },
  {
   "cell_type": "code",
   "execution_count": 43,
   "metadata": {},
   "outputs": [
    {
     "name": "stdout",
     "output_type": "stream",
     "text": [
      "Silhouette_score\n",
      "\n",
      "0.2912487509595766\n"
     ]
    }
   ],
   "source": [
    "from sklearn.decomposition import PCA\n",
    "pca=PCA(n_components=4)\n",
    "reduced_data1=pca.fit_transform(df)\n",
    "from sklearn.cluster import KMeans\n",
    "km=KMeans(n_clusters=4)\n",
    "km.fit(reduced_data1)\n",
    "label=km.labels_\n",
    "from sklearn.metrics import silhouette_score\n",
    "print('Silhouette_score\\n')\n",
    "print(silhouette_score(reduced_data1,label))"
   ]
  },
  {
   "cell_type": "markdown",
   "metadata": {},
   "source": [
    "# Without PCA- Kmeans performance"
   ]
  },
  {
   "cell_type": "code",
   "execution_count": 44,
   "metadata": {},
   "outputs": [
    {
     "name": "stdout",
     "output_type": "stream",
     "text": [
      "Silhouette_score\n",
      "\n",
      "0.4856633508809746\n"
     ]
    }
   ],
   "source": [
    "from sklearn.cluster import KMeans\n",
    "km=KMeans(n_clusters=4)\n",
    "km.fit(data)\n",
    "label=km.labels_\n",
    "from sklearn.metrics import silhouette_score\n",
    "print('Silhouette_score\\n')\n",
    "print(silhouette_score(data,label))"
   ]
  },
  {
   "cell_type": "markdown",
   "metadata": {},
   "source": [
    "# scalled data - Kmeans Performance"
   ]
  },
  {
   "cell_type": "code",
   "execution_count": 45,
   "metadata": {},
   "outputs": [
    {
     "name": "stdout",
     "output_type": "stream",
     "text": [
      "Silhouette_score\n",
      "\n",
      "0.20494316060933612\n"
     ]
    }
   ],
   "source": [
    "from sklearn.cluster import KMeans\n",
    "km=KMeans(n_clusters=4)\n",
    "km.fit(df)\n",
    "label=km.labels_\n",
    "from sklearn.metrics import silhouette_score\n",
    "print('Silhouette_score\\n')\n",
    "print(silhouette_score(df,label))"
   ]
  },
  {
   "cell_type": "code",
   "execution_count": null,
   "metadata": {},
   "outputs": [],
   "source": []
  }
 ],
 "metadata": {
  "kernelspec": {
   "display_name": "Python 3",
   "language": "python",
   "name": "python3"
  },
  "language_info": {
   "codemirror_mode": {
    "name": "ipython",
    "version": 3
   },
   "file_extension": ".py",
   "mimetype": "text/x-python",
   "name": "python",
   "nbconvert_exporter": "python",
   "pygments_lexer": "ipython3",
   "version": "3.8.3"
  }
 },
 "nbformat": 4,
 "nbformat_minor": 4
}
